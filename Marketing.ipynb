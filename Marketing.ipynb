{
 "cells": [
  {
   "cell_type": "code",
   "execution_count": 5,
   "metadata": {},
   "outputs": [
    {
     "name": "stderr",
     "output_type": "stream",
     "text": [
      "Loading required package: pacman\n",
      "Warning message in library(package, lib.loc = lib.loc, character.only = TRUE, logical.return = TRUE, :\n",
      "\"there is no package called 'pacman'\"Installing package into 'C:/Program Files/R/R-3.5.1/library'\n",
      "(as 'lib' is unspecified)\n",
      "also installing the dependencies 'memoise', 'git2r', 'devtools'\n",
      "\n"
     ]
    },
    {
     "name": "stdout",
     "output_type": "stream",
     "text": [
      "package 'memoise' successfully unpacked and MD5 sums checked\n",
      "package 'git2r' successfully unpacked and MD5 sums checked\n",
      "package 'devtools' successfully unpacked and MD5 sums checked\n",
      "package 'pacman' successfully unpacked and MD5 sums checked\n",
      "\n",
      "The downloaded binary packages are in\n",
      "\tC:\\Users\\Mirela\\AppData\\Local\\Temp\\Rtmpm27vZ1\\downloaded_packages\n"
     ]
    },
    {
     "name": "stderr",
     "output_type": "stream",
     "text": [
      "Installing package into 'C:/Program Files/R/R-3.5.1/library'\n",
      "(as 'lib' is unspecified)\n"
     ]
    },
    {
     "name": "stdout",
     "output_type": "stream",
     "text": [
      "package 'corrplot' successfully unpacked and MD5 sums checked\n",
      "\n",
      "The downloaded binary packages are in\n",
      "\tC:\\Users\\Mirela\\AppData\\Local\\Temp\\Rtmpm27vZ1\\downloaded_packages\n"
     ]
    },
    {
     "name": "stderr",
     "output_type": "stream",
     "text": [
      "\n",
      "corrplot installed\n",
      "Warning message:\n",
      "\"package 'corrplot' was built under R version 3.4.4\"Installing package into 'C:/Program Files/R/R-3.5.1/library'\n",
      "(as 'lib' is unspecified)\n"
     ]
    },
    {
     "name": "stdout",
     "output_type": "stream",
     "text": [
      "package 'Metrics' successfully unpacked and MD5 sums checked\n",
      "\n",
      "The downloaded binary packages are in\n",
      "\tC:\\Users\\Mirela\\AppData\\Local\\Temp\\Rtmpm27vZ1\\downloaded_packages\n"
     ]
    },
    {
     "name": "stderr",
     "output_type": "stream",
     "text": [
      "\n",
      "Metrics installed\n",
      "Warning message:\n",
      "\"package 'Metrics' was built under R version 3.4.4\"Installing package into 'C:/Program Files/R/R-3.5.1/library'\n",
      "(as 'lib' is unspecified)\n",
      "also installing the dependency 'lmtest'\n",
      "\n"
     ]
    },
    {
     "name": "stdout",
     "output_type": "stream",
     "text": [
      "package 'lmtest' successfully unpacked and MD5 sums checked\n",
      "package 'vcd' successfully unpacked and MD5 sums checked\n",
      "\n",
      "The downloaded binary packages are in\n",
      "\tC:\\Users\\Mirela\\AppData\\Local\\Temp\\Rtmpm27vZ1\\downloaded_packages\n"
     ]
    },
    {
     "name": "stderr",
     "output_type": "stream",
     "text": [
      "\n",
      "vcd installed\n",
      "Warning message:\n",
      "\"package 'vcd' was built under R version 3.4.4\""
     ]
    }
   ],
   "source": [
    "# prepare the R environment\n",
    "if (!require(\"pacman\")) install.packages(\"pacman\",repos=\"http://cran.us.r-project.org\")\n",
    "pacman::p_load(\n",
    "  dplyr,         # Data munging functions\n",
    "  zoo,              # Feature engineering rolling aggregates\n",
    "  data.table,       # Feature engineering\n",
    "  ggplot2,          # Graphics\n",
    "  scales,           # Time formatted axis\n",
    "  readr,            # Reading input files\n",
    "  stringr,          # String functions\n",
    "  reshape2,         # restructure and aggregate data \n",
    "  randomForest,     # Random forests\n",
    "  corrplot,         # correlation plots\n",
    "  Metrics,          # Eval metrics for ML\n",
    "  vcd               # Visualizing discrete distributions\n",
    ")\n",
    "\n",
    "# set options for plots\n",
    "options(repr.plot.width=6, repr.plot.height=6)"
   ]
  },
  {
   "cell_type": "code",
   "execution_count": 6,
   "metadata": {},
   "outputs": [
    {
     "data": {
      "text/html": [
       "<table>\n",
       "<thead><tr><th scope=col>age</th><th scope=col>job</th><th scope=col>marital</th><th scope=col>education</th><th scope=col>default</th><th scope=col>balance</th><th scope=col>housing</th><th scope=col>loan</th><th scope=col>contact</th><th scope=col>day</th><th scope=col>month</th><th scope=col>duration</th><th scope=col>campaign</th><th scope=col>pdays</th><th scope=col>previous</th><th scope=col>poutcome</th><th scope=col>y</th></tr></thead>\n",
       "<tbody>\n",
       "\t<tr><td>58          </td><td>management  </td><td>married     </td><td>tertiary    </td><td>no          </td><td>2143        </td><td>yes         </td><td>no          </td><td>unknown     </td><td>5           </td><td>may         </td><td>261         </td><td>1           </td><td>-1          </td><td>0           </td><td>unknown     </td><td>no          </td></tr>\n",
       "\t<tr><td>44          </td><td>technician  </td><td>single      </td><td>secondary   </td><td>no          </td><td>  29        </td><td>yes         </td><td>no          </td><td>unknown     </td><td>5           </td><td>may         </td><td>151         </td><td>1           </td><td>-1          </td><td>0           </td><td>unknown     </td><td>no          </td></tr>\n",
       "\t<tr><td>33          </td><td>entrepreneur</td><td>married     </td><td>secondary   </td><td>no          </td><td>   2        </td><td>yes         </td><td>yes         </td><td>unknown     </td><td>5           </td><td>may         </td><td> 76         </td><td>1           </td><td>-1          </td><td>0           </td><td>unknown     </td><td>no          </td></tr>\n",
       "\t<tr><td>47          </td><td>blue-collar </td><td>married     </td><td>unknown     </td><td>no          </td><td>1506        </td><td>yes         </td><td>no          </td><td>unknown     </td><td>5           </td><td>may         </td><td> 92         </td><td>1           </td><td>-1          </td><td>0           </td><td>unknown     </td><td>no          </td></tr>\n",
       "\t<tr><td>33          </td><td>unknown     </td><td>single      </td><td>unknown     </td><td>no          </td><td>   1        </td><td>no          </td><td>no          </td><td>unknown     </td><td>5           </td><td>may         </td><td>198         </td><td>1           </td><td>-1          </td><td>0           </td><td>unknown     </td><td>no          </td></tr>\n",
       "\t<tr><td>35          </td><td>management  </td><td>married     </td><td>tertiary    </td><td>no          </td><td> 231        </td><td>yes         </td><td>no          </td><td>unknown     </td><td>5           </td><td>may         </td><td>139         </td><td>1           </td><td>-1          </td><td>0           </td><td>unknown     </td><td>no          </td></tr>\n",
       "</tbody>\n",
       "</table>\n"
      ],
      "text/latex": [
       "\\begin{tabular}{r|lllllllllllllllll}\n",
       " age & job & marital & education & default & balance & housing & loan & contact & day & month & duration & campaign & pdays & previous & poutcome & y\\\\\n",
       "\\hline\n",
       "\t 58           & management   & married      & tertiary     & no           & 2143         & yes          & no           & unknown      & 5            & may          & 261          & 1            & -1           & 0            & unknown      & no          \\\\\n",
       "\t 44           & technician   & single       & secondary    & no           &   29         & yes          & no           & unknown      & 5            & may          & 151          & 1            & -1           & 0            & unknown      & no          \\\\\n",
       "\t 33           & entrepreneur & married      & secondary    & no           &    2         & yes          & yes          & unknown      & 5            & may          &  76          & 1            & -1           & 0            & unknown      & no          \\\\\n",
       "\t 47           & blue-collar  & married      & unknown      & no           & 1506         & yes          & no           & unknown      & 5            & may          &  92          & 1            & -1           & 0            & unknown      & no          \\\\\n",
       "\t 33           & unknown      & single       & unknown      & no           &    1         & no           & no           & unknown      & 5            & may          & 198          & 1            & -1           & 0            & unknown      & no          \\\\\n",
       "\t 35           & management   & married      & tertiary     & no           &  231         & yes          & no           & unknown      & 5            & may          & 139          & 1            & -1           & 0            & unknown      & no          \\\\\n",
       "\\end{tabular}\n"
      ],
      "text/markdown": [
       "\n",
       "age | job | marital | education | default | balance | housing | loan | contact | day | month | duration | campaign | pdays | previous | poutcome | y | \n",
       "|---|---|---|---|---|---|\n",
       "| 58           | management   | married      | tertiary     | no           | 2143         | yes          | no           | unknown      | 5            | may          | 261          | 1            | -1           | 0            | unknown      | no           | \n",
       "| 44           | technician   | single       | secondary    | no           |   29         | yes          | no           | unknown      | 5            | may          | 151          | 1            | -1           | 0            | unknown      | no           | \n",
       "| 33           | entrepreneur | married      | secondary    | no           |    2         | yes          | yes          | unknown      | 5            | may          |  76          | 1            | -1           | 0            | unknown      | no           | \n",
       "| 47           | blue-collar  | married      | unknown      | no           | 1506         | yes          | no           | unknown      | 5            | may          |  92          | 1            | -1           | 0            | unknown      | no           | \n",
       "| 33           | unknown      | single       | unknown      | no           |    1         | no           | no           | unknown      | 5            | may          | 198          | 1            | -1           | 0            | unknown      | no           | \n",
       "| 35           | management   | married      | tertiary     | no           |  231         | yes          | no           | unknown      | 5            | may          | 139          | 1            | -1           | 0            | unknown      | no           | \n",
       "\n",
       "\n"
      ],
      "text/plain": [
       "  age job          marital education default balance housing loan contact day\n",
       "1 58  management   married tertiary  no      2143    yes     no   unknown 5  \n",
       "2 44  technician   single  secondary no        29    yes     no   unknown 5  \n",
       "3 33  entrepreneur married secondary no         2    yes     yes  unknown 5  \n",
       "4 47  blue-collar  married unknown   no      1506    yes     no   unknown 5  \n",
       "5 33  unknown      single  unknown   no         1    no      no   unknown 5  \n",
       "6 35  management   married tertiary  no       231    yes     no   unknown 5  \n",
       "  month duration campaign pdays previous poutcome y \n",
       "1 may   261      1        -1    0        unknown  no\n",
       "2 may   151      1        -1    0        unknown  no\n",
       "3 may    76      1        -1    0        unknown  no\n",
       "4 may    92      1        -1    0        unknown  no\n",
       "5 may   198      1        -1    0        unknown  no\n",
       "6 may   139      1        -1    0        unknown  no"
      ]
     },
     "metadata": {},
     "output_type": "display_data"
    }
   ],
   "source": [
    "# Load the data\n",
    "bm <-\"C:\\\\Users\\\\Mirela\\\\RStudioProjects\\\\Marketing\\\\datasets\\\\bank-marketing.csv\"\n",
    "\n",
    "if(!file.exists(bm)){tryCatch(bm)}\n",
    "\n",
    "if(file.exists(bm)) bm_original <- read.csv(bm, header = TRUE, stringsAsFactors = FALSE, sep = \";\")\n",
    "\n",
    "head(bm_original)"
   ]
  },
  {
   "cell_type": "code",
   "execution_count": 7,
   "metadata": {},
   "outputs": [],
   "source": [
    "# eliminate any duplicates that may exist in the dataset\n",
    "\n",
    "bank <- bm_original%>%\n",
    "  distinct(.keep_all = TRUE,education,balance,age)"
   ]
  },
  {
   "cell_type": "code",
   "execution_count": 8,
   "metadata": {},
   "outputs": [
    {
     "data": {
      "text/html": [
       "<table>\n",
       "<thead><tr><th scope=col>age</th><th scope=col>job</th><th scope=col>marital</th><th scope=col>education</th><th scope=col>default</th><th scope=col>balance</th><th scope=col>housing</th><th scope=col>loan</th><th scope=col>contact</th><th scope=col>day</th><th scope=col>month</th><th scope=col>duration</th><th scope=col>campaign</th><th scope=col>pdays</th><th scope=col>previous</th><th scope=col>poutcome</th><th scope=col>y</th><th scope=col>bank_id</th></tr></thead>\n",
       "<tbody>\n",
       "\t<tr><td>58          </td><td>management  </td><td>married     </td><td>tertiary    </td><td>no          </td><td>2143        </td><td>yes         </td><td>no          </td><td>unknown     </td><td>5           </td><td>may         </td><td>261         </td><td>1           </td><td>-1          </td><td>0           </td><td>unknown     </td><td>no          </td><td>1           </td></tr>\n",
       "\t<tr><td>44          </td><td>technician  </td><td>single      </td><td>secondary   </td><td>no          </td><td>  29        </td><td>yes         </td><td>no          </td><td>unknown     </td><td>5           </td><td>may         </td><td>151         </td><td>1           </td><td>-1          </td><td>0           </td><td>unknown     </td><td>no          </td><td>2           </td></tr>\n",
       "\t<tr><td>33          </td><td>entrepreneur</td><td>married     </td><td>secondary   </td><td>no          </td><td>   2        </td><td>yes         </td><td>yes         </td><td>unknown     </td><td>5           </td><td>may         </td><td> 76         </td><td>1           </td><td>-1          </td><td>0           </td><td>unknown     </td><td>no          </td><td>3           </td></tr>\n",
       "\t<tr><td>47          </td><td>blue-collar </td><td>married     </td><td>unknown     </td><td>no          </td><td>1506        </td><td>yes         </td><td>no          </td><td>unknown     </td><td>5           </td><td>may         </td><td> 92         </td><td>1           </td><td>-1          </td><td>0           </td><td>unknown     </td><td>no          </td><td>4           </td></tr>\n",
       "\t<tr><td>33          </td><td>unknown     </td><td>single      </td><td>unknown     </td><td>no          </td><td>   1        </td><td>no          </td><td>no          </td><td>unknown     </td><td>5           </td><td>may         </td><td>198         </td><td>1           </td><td>-1          </td><td>0           </td><td>unknown     </td><td>no          </td><td>5           </td></tr>\n",
       "\t<tr><td>35          </td><td>management  </td><td>married     </td><td>tertiary    </td><td>no          </td><td> 231        </td><td>yes         </td><td>no          </td><td>unknown     </td><td>5           </td><td>may         </td><td>139         </td><td>1           </td><td>-1          </td><td>0           </td><td>unknown     </td><td>no          </td><td>6           </td></tr>\n",
       "</tbody>\n",
       "</table>\n"
      ],
      "text/latex": [
       "\\begin{tabular}{r|llllllllllllllllll}\n",
       " age & job & marital & education & default & balance & housing & loan & contact & day & month & duration & campaign & pdays & previous & poutcome & y & bank\\_id\\\\\n",
       "\\hline\n",
       "\t 58           & management   & married      & tertiary     & no           & 2143         & yes          & no           & unknown      & 5            & may          & 261          & 1            & -1           & 0            & unknown      & no           & 1           \\\\\n",
       "\t 44           & technician   & single       & secondary    & no           &   29         & yes          & no           & unknown      & 5            & may          & 151          & 1            & -1           & 0            & unknown      & no           & 2           \\\\\n",
       "\t 33           & entrepreneur & married      & secondary    & no           &    2         & yes          & yes          & unknown      & 5            & may          &  76          & 1            & -1           & 0            & unknown      & no           & 3           \\\\\n",
       "\t 47           & blue-collar  & married      & unknown      & no           & 1506         & yes          & no           & unknown      & 5            & may          &  92          & 1            & -1           & 0            & unknown      & no           & 4           \\\\\n",
       "\t 33           & unknown      & single       & unknown      & no           &    1         & no           & no           & unknown      & 5            & may          & 198          & 1            & -1           & 0            & unknown      & no           & 5           \\\\\n",
       "\t 35           & management   & married      & tertiary     & no           &  231         & yes          & no           & unknown      & 5            & may          & 139          & 1            & -1           & 0            & unknown      & no           & 6           \\\\\n",
       "\\end{tabular}\n"
      ],
      "text/markdown": [
       "\n",
       "age | job | marital | education | default | balance | housing | loan | contact | day | month | duration | campaign | pdays | previous | poutcome | y | bank_id | \n",
       "|---|---|---|---|---|---|\n",
       "| 58           | management   | married      | tertiary     | no           | 2143         | yes          | no           | unknown      | 5            | may          | 261          | 1            | -1           | 0            | unknown      | no           | 1            | \n",
       "| 44           | technician   | single       | secondary    | no           |   29         | yes          | no           | unknown      | 5            | may          | 151          | 1            | -1           | 0            | unknown      | no           | 2            | \n",
       "| 33           | entrepreneur | married      | secondary    | no           |    2         | yes          | yes          | unknown      | 5            | may          |  76          | 1            | -1           | 0            | unknown      | no           | 3            | \n",
       "| 47           | blue-collar  | married      | unknown      | no           | 1506         | yes          | no           | unknown      | 5            | may          |  92          | 1            | -1           | 0            | unknown      | no           | 4            | \n",
       "| 33           | unknown      | single       | unknown      | no           |    1         | no           | no           | unknown      | 5            | may          | 198          | 1            | -1           | 0            | unknown      | no           | 5            | \n",
       "| 35           | management   | married      | tertiary     | no           |  231         | yes          | no           | unknown      | 5            | may          | 139          | 1            | -1           | 0            | unknown      | no           | 6            | \n",
       "\n",
       "\n"
      ],
      "text/plain": [
       "  age job          marital education default balance housing loan contact day\n",
       "1 58  management   married tertiary  no      2143    yes     no   unknown 5  \n",
       "2 44  technician   single  secondary no        29    yes     no   unknown 5  \n",
       "3 33  entrepreneur married secondary no         2    yes     yes  unknown 5  \n",
       "4 47  blue-collar  married unknown   no      1506    yes     no   unknown 5  \n",
       "5 33  unknown      single  unknown   no         1    no      no   unknown 5  \n",
       "6 35  management   married tertiary  no       231    yes     no   unknown 5  \n",
       "  month duration campaign pdays previous poutcome y  bank_id\n",
       "1 may   261      1        -1    0        unknown  no 1      \n",
       "2 may   151      1        -1    0        unknown  no 2      \n",
       "3 may    76      1        -1    0        unknown  no 3      \n",
       "4 may    92      1        -1    0        unknown  no 4      \n",
       "5 may   198      1        -1    0        unknown  no 5      \n",
       "6 may   139      1        -1    0        unknown  no 6      "
      ]
     },
     "metadata": {},
     "output_type": "display_data"
    },
    {
     "data": {
      "text/plain": [
       "      age            job              marital           education        \n",
       " Min.   :18.00   Length:35732       Length:35732       Length:35732      \n",
       " 1st Qu.:33.00   Class :character   Class :character   Class :character  \n",
       " Median :40.00   Mode  :character   Mode  :character   Mode  :character  \n",
       " Mean   :41.23                                                           \n",
       " 3rd Qu.:49.00                                                           \n",
       " Max.   :95.00                                                           \n",
       "   default             balance         housing              loan          \n",
       " Length:35732       Min.   : -8019   Length:35732       Length:35732      \n",
       " Class :character   1st Qu.:   154   Class :character   Class :character  \n",
       " Mode  :character   Median :   584   Mode  :character   Mode  :character  \n",
       "                    Mean   :  1549                                        \n",
       "                    3rd Qu.:  1694                                        \n",
       "                    Max.   :102127                                        \n",
       "   contact               day           month              duration   \n",
       " Length:35732       Min.   : 1.00   Length:35732       Min.   :   0  \n",
       " Class :character   1st Qu.: 8.00   Class :character   1st Qu.: 103  \n",
       " Mode  :character   Median :16.00   Mode  :character   Median : 181  \n",
       "                    Mean   :15.79                      Mean   : 261  \n",
       "                    3rd Qu.:21.00                      3rd Qu.: 322  \n",
       "                    Max.   :31.00                      Max.   :4918  \n",
       "    campaign          pdays           previous          poutcome        \n",
       " Min.   : 1.000   Min.   : -1.00   Min.   :  0.0000   Length:35732      \n",
       " 1st Qu.: 1.000   1st Qu.: -1.00   1st Qu.:  0.0000   Class :character  \n",
       " Median : 2.000   Median : -1.00   Median :  0.0000   Mode  :character  \n",
       " Mean   : 2.783   Mean   : 32.21   Mean   :  0.4128                     \n",
       " 3rd Qu.: 3.000   3rd Qu.: -1.00   3rd Qu.:  0.0000                     \n",
       " Max.   :63.000   Max.   :871.00   Max.   :275.0000                     \n",
       "      y                bank_id     \n",
       " Length:35732       Min.   :    1  \n",
       " Class :character   1st Qu.: 8934  \n",
       " Mode  :character   Median :17867  \n",
       "                    Mean   :17867  \n",
       "                    3rd Qu.:26799  \n",
       "                    Max.   :35732  "
      ]
     },
     "metadata": {},
     "output_type": "display_data"
    }
   ],
   "source": [
    "# generate an id column for future use (joins etc)\n",
    "bank$bank_id = seq.int(nrow(bank))\n",
    "head(bank)\n",
    "summary(bank)\n"
   ]
  },
  {
   "cell_type": "code",
   "execution_count": 9,
   "metadata": {},
   "outputs": [
    {
     "data": {},
     "metadata": {},
     "output_type": "display_data"
    },
    {
     "data": {
      "image/png": "[encoded data removed]",
      "text/plain": [
       "plot without title"
      ]
     },
     "metadata": {},
     "output_type": "display_data"
    }
   ],
   "source": [
    "bank %>%\n",
    "  ggplot(mapping = aes(education)) +\n",
    "  geom_bar(aes(fill=marital), width=1, color=\"black\") +\n",
    "  theme(legend.position = \"bottom\", legend.direction = \"vertical\") + ggtitle(\"Education vs marital statut\")"
   ]
  },
  {
   "cell_type": "code",
   "execution_count": 10,
   "metadata": {},
   "outputs": [
    {
     "data": {},
     "metadata": {},
     "output_type": "display_data"
    },
    {
     "data": {
      "image/png": "[encoded data removed]",
      "text/plain": [
       "plot without title"
      ]
     },
     "metadata": {},
     "output_type": "display_data"
    }
   ],
   "source": [
    "bank %>%\n",
    "  dplyr::group_by(age = age) %>%\n",
    "  dplyr::summarize(\n",
    "    totalcampaigns = n(),\n",
    "    totaldurations = sum(duration),\n",
    "    durationspercampains = totaldurations / totalcampaigns\n",
    "  ) %>%\n",
    "  ggplot(mapping = aes(x = age, y = durationspercampains)) +\n",
    "  geom_point() +\n",
    "  geom_smooth(method = \"loess\") + ggtitle(\"Duration per campaings\")"
   ]
  },
  {
   "cell_type": "code",
   "execution_count": 11,
   "metadata": {},
   "outputs": [
    {
     "data": {},
     "metadata": {},
     "output_type": "display_data"
    },
    {
     "data": {
      "text/html": [
       "<table>\n",
       "<thead><tr><th scope=col>bank_id</th><th scope=col>age</th><th scope=col>name</th><th scope=col>opponentName</th><th scope=col>homeVenue</th><th scope=col>neutralVenue</th><th scope=col>ga</th><th scope=col>gd</th><th scope=col>w</th><th scope=col>l</th><th scope=col>d</th><th scope=col>friendly</th><th scope=col>qualifier</th><th scope=col>finaltourn</th></tr></thead>\n",
       "<tbody>\n",
       "</tbody>\n",
       "</table>\n"
      ],
      "text/latex": [
       "\\begin{tabular}{r|llllllllllllll}\n",
       " bank\\_id & age & name & opponentName & homeVenue & neutralVenue & ga & gd & w & l & d & friendly & qualifier & finaltourn\\\\\n",
       "\\hline\n",
       "\\end{tabular}\n"
      ],
      "text/markdown": [
       "\n",
       "bank_id | age | name | opponentName | homeVenue | neutralVenue | ga | gd | w | l | d | friendly | qualifier | finaltourn | \n",
       "||\n",
       "\n",
       "\n"
      ],
      "text/plain": [
       "     bank_id age name opponentName homeVenue neutralVenue ga gd w l d friendly\n",
       "     qualifier finaltourn"
      ]
     },
     "metadata": {},
     "output_type": "display_data"
    },
    {
     "data": {
      "image/png": "[encoded data removed]",
      "text/plain": [
       "plot without title"
      ]
     },
     "metadata": {},
     "output_type": "display_data"
    }
   ],
   "source": [
    "# what values is our dataset missing?\n",
    "\n",
    "ggplot_missing <- function(x){\n",
    "  \n",
    "  x %>%\n",
    "    is.na %>%\n",
    "    melt %>%\n",
    "    ggplot(mapping = aes(x = Var2,\n",
    "                         y = Var1)) +\n",
    "    geom_raster(aes(fill = value)) +\n",
    "    scale_fill_grey(name = \"\",\n",
    "                    labels = c(\"Present\",\"Missing\")) +\n",
    "    theme(axis.text.x  = element_text(angle=45, vjust=0.5)) +\n",
    "    labs(x = \"Variables in Dataset\",\n",
    "         y = \"Rows / observations\")\n",
    "}\n",
    "\n",
    "ggplot_missing(bank)\n",
    "\n",
    "bank <- bank %>% dplyr::filter(\"tertiary\" == FALSE)\n",
    "\n",
    "bankperf <- bank %>%\n",
    "  dplyr::mutate(\n",
    "    name = job,\n",
    "    opponentName = marital,\n",
    "    homeVenue = education,\n",
    "    neutralVenue = default,\n",
    "    gs = balance > 1000,\n",
    "    ga = duration < 150,\n",
    "    gd = gs - ga,\n",
    "    w = education == \"tertiary\" & marital ==\"marrid\",\n",
    "    l = education == \"tertiary\",\n",
    "    d = balance[1] <- 1000,\n",
    "    friendly = balance[1] <- 1000,\n",
    "    qualifier = balance,\n",
    "    finaltourn = housing\n",
    "    ) %>%\n",
    "  dplyr::select (bank_id,age, name, opponentName, homeVenue, neutralVenue, ga, gd, w, l, d, friendly, qualifier, finaltourn)\n",
    "\n",
    "head(bankperf)"
   ]
  },
  {
   "cell_type": "code",
   "execution_count": null,
   "metadata": {},
   "outputs": [],
   "source": []
  }
 ],
 "metadata": {
  "kernelspec": {
   "display_name": "R",
   "language": "R",
   "name": "ir"
  },
  "language_info": {
   "codemirror_mode": "r",
   "file_extension": ".r",
   "mimetype": "text/x-r-source",
   "name": "R",
   "pygments_lexer": "r",
   "version": "3.4.3"
  }
 },
 "nbformat": 4,
 "nbformat_minor": 2
}
