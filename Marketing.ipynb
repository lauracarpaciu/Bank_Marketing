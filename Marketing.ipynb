{
 "cells": [
  {
   "cell_type": "code",
   "execution_count": 1,
   "metadata": {},
   "outputs": [
    {
     "name": "stderr",
     "output_type": "stream",
     "text": [
      "Loading required package: pacman\n",
      "Warning message:\n",
      "\"package 'pacman' was built under R version 3.4.4\""
     ]
    }
   ],
   "source": [
    "# prepare the R environment\n",
    "if (!require(\"pacman\")) install.packages(\"pacman\")\n",
    "pacman::p_load(\n",
    "  dplyr,         # Data munging functions\n",
    "  zoo,              # Feature engineering rolling aggregates\n",
    "  data.table,       # Feature engineering\n",
    "  ggplot2,          # Graphics\n",
    "  scales,           # Time formatted axis\n",
    "  readr,            # Reading input files\n",
    "  stringr,          # String functions\n",
    "  reshape2,         # restructure and aggregate data \n",
    "  randomForest,     # Random forests\n",
    "  corrplot,         # correlation plots\n",
    "  Metrics,          # Eval metrics for ML\n",
    "  vcd               # Visualizing discrete distributions\n",
    ")\n",
    "\n",
    "# set options for plots\n",
    "options(repr.plot.width=6, repr.plot.height=6)"
   ]
  },
  {
   "cell_type": "code",
   "execution_count": 2,
   "metadata": {},
   "outputs": [
    {
     "data": {
      "text/html": [
       "<table>\n",
       "<thead><tr><th scope=col>age</th><th scope=col>job</th><th scope=col>marital</th><th scope=col>education</th><th scope=col>default</th><th scope=col>balance</th><th scope=col>housing</th><th scope=col>loan</th><th scope=col>contact</th><th scope=col>day</th><th scope=col>month</th><th scope=col>duration</th><th scope=col>campaign</th><th scope=col>pdays</th><th scope=col>previous</th><th scope=col>poutcome</th><th scope=col>y</th></tr></thead>\n",
       "<tbody>\n",
       "\t<tr><td>58          </td><td>management  </td><td>married     </td><td>tertiary    </td><td>no          </td><td>2143        </td><td>yes         </td><td>no          </td><td>unknown     </td><td>5           </td><td>may         </td><td>261         </td><td>1           </td><td>-1          </td><td>0           </td><td>unknown     </td><td>no          </td></tr>\n",
       "\t<tr><td>44          </td><td>technician  </td><td>single      </td><td>secondary   </td><td>no          </td><td>  29        </td><td>yes         </td><td>no          </td><td>unknown     </td><td>5           </td><td>may         </td><td>151         </td><td>1           </td><td>-1          </td><td>0           </td><td>unknown     </td><td>no          </td></tr>\n",
       "\t<tr><td>33          </td><td>entrepreneur</td><td>married     </td><td>secondary   </td><td>no          </td><td>   2        </td><td>yes         </td><td>yes         </td><td>unknown     </td><td>5           </td><td>may         </td><td> 76         </td><td>1           </td><td>-1          </td><td>0           </td><td>unknown     </td><td>no          </td></tr>\n",
       "\t<tr><td>47          </td><td>blue-collar </td><td>married     </td><td>unknown     </td><td>no          </td><td>1506        </td><td>yes         </td><td>no          </td><td>unknown     </td><td>5           </td><td>may         </td><td> 92         </td><td>1           </td><td>-1          </td><td>0           </td><td>unknown     </td><td>no          </td></tr>\n",
       "\t<tr><td>33          </td><td>unknown     </td><td>single      </td><td>unknown     </td><td>no          </td><td>   1        </td><td>no          </td><td>no          </td><td>unknown     </td><td>5           </td><td>may         </td><td>198         </td><td>1           </td><td>-1          </td><td>0           </td><td>unknown     </td><td>no          </td></tr>\n",
       "\t<tr><td>35          </td><td>management  </td><td>married     </td><td>tertiary    </td><td>no          </td><td> 231        </td><td>yes         </td><td>no          </td><td>unknown     </td><td>5           </td><td>may         </td><td>139         </td><td>1           </td><td>-1          </td><td>0           </td><td>unknown     </td><td>no          </td></tr>\n",
       "</tbody>\n",
       "</table>\n"
      ],
      "text/latex": [
       "\\begin{tabular}{r|lllllllllllllllll}\n",
       " age & job & marital & education & default & balance & housing & loan & contact & day & month & duration & campaign & pdays & previous & poutcome & y\\\\\n",
       "\\hline\n",
       "\t 58           & management   & married      & tertiary     & no           & 2143         & yes          & no           & unknown      & 5            & may          & 261          & 1            & -1           & 0            & unknown      & no          \\\\\n",
       "\t 44           & technician   & single       & secondary    & no           &   29         & yes          & no           & unknown      & 5            & may          & 151          & 1            & -1           & 0            & unknown      & no          \\\\\n",
       "\t 33           & entrepreneur & married      & secondary    & no           &    2         & yes          & yes          & unknown      & 5            & may          &  76          & 1            & -1           & 0            & unknown      & no          \\\\\n",
       "\t 47           & blue-collar  & married      & unknown      & no           & 1506         & yes          & no           & unknown      & 5            & may          &  92          & 1            & -1           & 0            & unknown      & no          \\\\\n",
       "\t 33           & unknown      & single       & unknown      & no           &    1         & no           & no           & unknown      & 5            & may          & 198          & 1            & -1           & 0            & unknown      & no          \\\\\n",
       "\t 35           & management   & married      & tertiary     & no           &  231         & yes          & no           & unknown      & 5            & may          & 139          & 1            & -1           & 0            & unknown      & no          \\\\\n",
       "\\end{tabular}\n"
      ],
      "text/markdown": [
       "\n",
       "age | job | marital | education | default | balance | housing | loan | contact | day | month | duration | campaign | pdays | previous | poutcome | y | \n",
       "|---|---|---|---|---|---|\n",
       "| 58           | management   | married      | tertiary     | no           | 2143         | yes          | no           | unknown      | 5            | may          | 261          | 1            | -1           | 0            | unknown      | no           | \n",
       "| 44           | technician   | single       | secondary    | no           |   29         | yes          | no           | unknown      | 5            | may          | 151          | 1            | -1           | 0            | unknown      | no           | \n",
       "| 33           | entrepreneur | married      | secondary    | no           |    2         | yes          | yes          | unknown      | 5            | may          |  76          | 1            | -1           | 0            | unknown      | no           | \n",
       "| 47           | blue-collar  | married      | unknown      | no           | 1506         | yes          | no           | unknown      | 5            | may          |  92          | 1            | -1           | 0            | unknown      | no           | \n",
       "| 33           | unknown      | single       | unknown      | no           |    1         | no           | no           | unknown      | 5            | may          | 198          | 1            | -1           | 0            | unknown      | no           | \n",
       "| 35           | management   | married      | tertiary     | no           |  231         | yes          | no           | unknown      | 5            | may          | 139          | 1            | -1           | 0            | unknown      | no           | \n",
       "\n",
       "\n"
      ],
      "text/plain": [
       "  age job          marital education default balance housing loan contact day\n",
       "1 58  management   married tertiary  no      2143    yes     no   unknown 5  \n",
       "2 44  technician   single  secondary no        29    yes     no   unknown 5  \n",
       "3 33  entrepreneur married secondary no         2    yes     yes  unknown 5  \n",
       "4 47  blue-collar  married unknown   no      1506    yes     no   unknown 5  \n",
       "5 33  unknown      single  unknown   no         1    no      no   unknown 5  \n",
       "6 35  management   married tertiary  no       231    yes     no   unknown 5  \n",
       "  month duration campaign pdays previous poutcome y \n",
       "1 may   261      1        -1    0        unknown  no\n",
       "2 may   151      1        -1    0        unknown  no\n",
       "3 may    76      1        -1    0        unknown  no\n",
       "4 may    92      1        -1    0        unknown  no\n",
       "5 may   198      1        -1    0        unknown  no\n",
       "6 may   139      1        -1    0        unknown  no"
      ]
     },
     "metadata": {},
     "output_type": "display_data"
    }
   ],
   "source": [
    "# Load the data\n",
    "bm <-\"C:\\\\Users\\\\Mirela\\\\RStudioProjects\\\\Marketing\\\\datasets\\\\bank-marketing.csv\"\n",
    "\n",
    "if(!file.exists(bm)){tryCatch(bm)}\n",
    "\n",
    "if(file.exists(bm)) bm_original <- read.csv(bm, header = TRUE, stringsAsFactors = FALSE, sep = \";\")\n",
    "\n",
    "head(bm_original)\n"
   ]
  },
  {
   "cell_type": "code",
   "execution_count": 4,
   "metadata": {},
   "outputs": [
    {
     "data": {
      "text/html": [
       "<table>\n",
       "<thead><tr><th scope=col>age</th><th scope=col>job</th><th scope=col>marital</th><th scope=col>education</th><th scope=col>default</th><th scope=col>balance</th><th scope=col>housing</th><th scope=col>loan</th><th scope=col>contact</th><th scope=col>day</th><th scope=col>month</th><th scope=col>duration</th><th scope=col>campaign</th><th scope=col>pdays</th><th scope=col>previous</th><th scope=col>poutcome</th><th scope=col>y</th><th scope=col>bank_id</th></tr></thead>\n",
       "<tbody>\n",
       "\t<tr><td>58          </td><td>management  </td><td>married     </td><td>tertiary    </td><td>no          </td><td>2143        </td><td>yes         </td><td>no          </td><td>unknown     </td><td>5           </td><td>may         </td><td>261         </td><td>1           </td><td>-1          </td><td>0           </td><td>unknown     </td><td>no          </td><td>1           </td></tr>\n",
       "\t<tr><td>44          </td><td>technician  </td><td>single      </td><td>secondary   </td><td>no          </td><td>  29        </td><td>yes         </td><td>no          </td><td>unknown     </td><td>5           </td><td>may         </td><td>151         </td><td>1           </td><td>-1          </td><td>0           </td><td>unknown     </td><td>no          </td><td>2           </td></tr>\n",
       "\t<tr><td>33          </td><td>entrepreneur</td><td>married     </td><td>secondary   </td><td>no          </td><td>   2        </td><td>yes         </td><td>yes         </td><td>unknown     </td><td>5           </td><td>may         </td><td> 76         </td><td>1           </td><td>-1          </td><td>0           </td><td>unknown     </td><td>no          </td><td>3           </td></tr>\n",
       "\t<tr><td>47          </td><td>blue-collar </td><td>married     </td><td>unknown     </td><td>no          </td><td>1506        </td><td>yes         </td><td>no          </td><td>unknown     </td><td>5           </td><td>may         </td><td> 92         </td><td>1           </td><td>-1          </td><td>0           </td><td>unknown     </td><td>no          </td><td>4           </td></tr>\n",
       "\t<tr><td>33          </td><td>unknown     </td><td>single      </td><td>unknown     </td><td>no          </td><td>   1        </td><td>no          </td><td>no          </td><td>unknown     </td><td>5           </td><td>may         </td><td>198         </td><td>1           </td><td>-1          </td><td>0           </td><td>unknown     </td><td>no          </td><td>5           </td></tr>\n",
       "\t<tr><td>35          </td><td>management  </td><td>married     </td><td>tertiary    </td><td>no          </td><td> 231        </td><td>yes         </td><td>no          </td><td>unknown     </td><td>5           </td><td>may         </td><td>139         </td><td>1           </td><td>-1          </td><td>0           </td><td>unknown     </td><td>no          </td><td>6           </td></tr>\n",
       "</tbody>\n",
       "</table>\n"
      ],
      "text/latex": [
       "\\begin{tabular}{r|llllllllllllllllll}\n",
       " age & job & marital & education & default & balance & housing & loan & contact & day & month & duration & campaign & pdays & previous & poutcome & y & bank\\_id\\\\\n",
       "\\hline\n",
       "\t 58           & management   & married      & tertiary     & no           & 2143         & yes          & no           & unknown      & 5            & may          & 261          & 1            & -1           & 0            & unknown      & no           & 1           \\\\\n",
       "\t 44           & technician   & single       & secondary    & no           &   29         & yes          & no           & unknown      & 5            & may          & 151          & 1            & -1           & 0            & unknown      & no           & 2           \\\\\n",
       "\t 33           & entrepreneur & married      & secondary    & no           &    2         & yes          & yes          & unknown      & 5            & may          &  76          & 1            & -1           & 0            & unknown      & no           & 3           \\\\\n",
       "\t 47           & blue-collar  & married      & unknown      & no           & 1506         & yes          & no           & unknown      & 5            & may          &  92          & 1            & -1           & 0            & unknown      & no           & 4           \\\\\n",
       "\t 33           & unknown      & single       & unknown      & no           &    1         & no           & no           & unknown      & 5            & may          & 198          & 1            & -1           & 0            & unknown      & no           & 5           \\\\\n",
       "\t 35           & management   & married      & tertiary     & no           &  231         & yes          & no           & unknown      & 5            & may          & 139          & 1            & -1           & 0            & unknown      & no           & 6           \\\\\n",
       "\\end{tabular}\n"
      ],
      "text/markdown": [
       "\n",
       "age | job | marital | education | default | balance | housing | loan | contact | day | month | duration | campaign | pdays | previous | poutcome | y | bank_id | \n",
       "|---|---|---|---|---|---|\n",
       "| 58           | management   | married      | tertiary     | no           | 2143         | yes          | no           | unknown      | 5            | may          | 261          | 1            | -1           | 0            | unknown      | no           | 1            | \n",
       "| 44           | technician   | single       | secondary    | no           |   29         | yes          | no           | unknown      | 5            | may          | 151          | 1            | -1           | 0            | unknown      | no           | 2            | \n",
       "| 33           | entrepreneur | married      | secondary    | no           |    2         | yes          | yes          | unknown      | 5            | may          |  76          | 1            | -1           | 0            | unknown      | no           | 3            | \n",
       "| 47           | blue-collar  | married      | unknown      | no           | 1506         | yes          | no           | unknown      | 5            | may          |  92          | 1            | -1           | 0            | unknown      | no           | 4            | \n",
       "| 33           | unknown      | single       | unknown      | no           |    1         | no           | no           | unknown      | 5            | may          | 198          | 1            | -1           | 0            | unknown      | no           | 5            | \n",
       "| 35           | management   | married      | tertiary     | no           |  231         | yes          | no           | unknown      | 5            | may          | 139          | 1            | -1           | 0            | unknown      | no           | 6            | \n",
       "\n",
       "\n"
      ],
      "text/plain": [
       "  age job          marital education default balance housing loan contact day\n",
       "1 58  management   married tertiary  no      2143    yes     no   unknown 5  \n",
       "2 44  technician   single  secondary no        29    yes     no   unknown 5  \n",
       "3 33  entrepreneur married secondary no         2    yes     yes  unknown 5  \n",
       "4 47  blue-collar  married unknown   no      1506    yes     no   unknown 5  \n",
       "5 33  unknown      single  unknown   no         1    no      no   unknown 5  \n",
       "6 35  management   married tertiary  no       231    yes     no   unknown 5  \n",
       "  month duration campaign pdays previous poutcome y  bank_id\n",
       "1 may   261      1        -1    0        unknown  no 1      \n",
       "2 may   151      1        -1    0        unknown  no 2      \n",
       "3 may    76      1        -1    0        unknown  no 3      \n",
       "4 may    92      1        -1    0        unknown  no 4      \n",
       "5 may   198      1        -1    0        unknown  no 5      \n",
       "6 may   139      1        -1    0        unknown  no 6      "
      ]
     },
     "metadata": {},
     "output_type": "display_data"
    },
    {
     "data": {
      "text/plain": [
       "      age            job              marital           education        \n",
       " Min.   :18.00   Length:35732       Length:35732       Length:35732      \n",
       " 1st Qu.:33.00   Class :character   Class :character   Class :character  \n",
       " Median :40.00   Mode  :character   Mode  :character   Mode  :character  \n",
       " Mean   :41.23                                                           \n",
       " 3rd Qu.:49.00                                                           \n",
       " Max.   :95.00                                                           \n",
       "   default             balance         housing              loan          \n",
       " Length:35732       Min.   : -8019   Length:35732       Length:35732      \n",
       " Class :character   1st Qu.:   154   Class :character   Class :character  \n",
       " Mode  :character   Median :   584   Mode  :character   Mode  :character  \n",
       "                    Mean   :  1549                                        \n",
       "                    3rd Qu.:  1694                                        \n",
       "                    Max.   :102127                                        \n",
       "   contact               day           month              duration   \n",
       " Length:35732       Min.   : 1.00   Length:35732       Min.   :   0  \n",
       " Class :character   1st Qu.: 8.00   Class :character   1st Qu.: 103  \n",
       " Mode  :character   Median :16.00   Mode  :character   Median : 181  \n",
       "                    Mean   :15.79                      Mean   : 261  \n",
       "                    3rd Qu.:21.00                      3rd Qu.: 322  \n",
       "                    Max.   :31.00                      Max.   :4918  \n",
       "    campaign          pdays           previous          poutcome        \n",
       " Min.   : 1.000   Min.   : -1.00   Min.   :  0.0000   Length:35732      \n",
       " 1st Qu.: 1.000   1st Qu.: -1.00   1st Qu.:  0.0000   Class :character  \n",
       " Median : 2.000   Median : -1.00   Median :  0.0000   Mode  :character  \n",
       " Mean   : 2.783   Mean   : 32.21   Mean   :  0.4128                     \n",
       " 3rd Qu.: 3.000   3rd Qu.: -1.00   3rd Qu.:  0.0000                     \n",
       " Max.   :63.000   Max.   :871.00   Max.   :275.0000                     \n",
       "      y                bank_id     \n",
       " Length:35732       Min.   :    1  \n",
       " Class :character   1st Qu.: 8934  \n",
       " Mode  :character   Median :17867  \n",
       "                    Mean   :17867  \n",
       "                    3rd Qu.:26799  \n",
       "                    Max.   :35732  "
      ]
     },
     "metadata": {},
     "output_type": "display_data"
    }
   ],
   "source": [
    "# eliminate any duplicates that may exist in the dataset\n",
    "\n",
    "bank <- bm_original%>%\n",
    "  distinct(.keep_all = TRUE,education,balance,age)\n",
    "# generate an id column for future use (joins etc)\n",
    "bank$bank_id = seq.int(nrow(bank))\n",
    "\n",
    "head(bank)\n",
    "summary(bank)"
   ]
  },
  {
   "cell_type": "code",
   "execution_count": 5,
   "metadata": {},
   "outputs": [
    {
     "data": {},
     "metadata": {},
     "output_type": "display_data"
    },
    {
     "data": {
      "image/png": "[encoded data removed]",
      "text/plain": [
       "plot without title"
      ]
     },
     "metadata": {},
     "output_type": "display_data"
    }
   ],
   "source": [
    "bank %>%\n",
    "  ggplot(mapping = aes(education)) +\n",
    "  geom_bar(aes(fill=marital), width=1, color=\"black\") +\n",
    "  theme(legend.position = \"bottom\", legend.direction = \"vertical\") + ggtitle(\"Education vs marital statut\")\n"
   ]
  },
  {
   "cell_type": "code",
   "execution_count": 6,
   "metadata": {},
   "outputs": [
    {
     "data": {},
     "metadata": {},
     "output_type": "display_data"
    },
    {
     "data": {
      "image/png": "[encoded data removed]",
      "text/plain": [
       "plot without title"
      ]
     },
     "metadata": {},
     "output_type": "display_data"
    }
   ],
   "source": [
    "bank %>%\n",
    "  dplyr::group_by(age = age) %>%\n",
    "  dplyr::summarize(\n",
    "    totalcreditors = n(),\n",
    "    totalbalances = sum(balance),\n",
    "    balancespercreditors = totalbalances / totalcreditors\n",
    "  ) %>%\n",
    "  ggplot(mapping = aes(x = age, y = balancespercreditors)) +\n",
    "  geom_point() +\n",
    "  geom_smooth(method = \"loess\") + ggtitle(\"Balances per creditors,vs age\")"
   ]
  },
  {
   "cell_type": "code",
   "execution_count": 7,
   "metadata": {},
   "outputs": [
    {
     "data": {},
     "metadata": {},
     "output_type": "display_data"
    },
    {
     "data": {
      "text/plain": [
       "   Min. 1st Qu.  Median    Mean 3rd Qu.    Max. \n",
       "  -8019     154     584    1549    1694  102127 "
      ]
     },
     "metadata": {},
     "output_type": "display_data"
    },
    {
     "data": {
      "image/png": "[encoded data removed]",
      "text/plain": [
       "plot without title"
      ]
     },
     "metadata": {},
     "output_type": "display_data"
    }
   ],
   "source": [
    "# what values is our dataset missing?\n",
    "\n",
    "ggplot_missing <- function(x){\n",
    "  \n",
    "  x %>%\n",
    "    is.na %>%\n",
    "    melt %>%\n",
    "    ggplot(mapping = aes(x = Var2,\n",
    "                         y = Var1)) +\n",
    "    geom_raster(aes(fill = value)) +\n",
    "    scale_fill_grey(name = \"\",\n",
    "                    labels = c(\"Present\",\"Missing\")) +\n",
    "    theme(axis.text.x  = element_text(angle=45, vjust=0.5)) +\n",
    "    labs(x = \"Variables in Dataset\",\n",
    "         y = \"Rows / observations\")\n",
    "}\n",
    "\n",
    "ggplot_missing(bank)\n",
    "\n",
    "summary(bank$balance)"
   ]
  },
  {
   "cell_type": "code",
   "execution_count": 8,
   "metadata": {},
   "outputs": [
    {
     "data": {
      "text/html": [
       "<table>\n",
       "<thead><tr><th scope=col>age</th><th scope=col>job</th><th scope=col>marital</th><th scope=col>education</th><th scope=col>default</th><th scope=col>balance</th><th scope=col>housing</th><th scope=col>loan</th><th scope=col>contact</th><th scope=col>day</th><th scope=col>...</th><th scope=col>campaign</th><th scope=col>pdays</th><th scope=col>previous</th><th scope=col>poutcome</th><th scope=col>y</th><th scope=col>bank_id</th><th scope=col>tertiary</th><th scope=col>primary</th><th scope=col>secondary</th><th scope=col>unknown</th></tr></thead>\n",
       "<tbody>\n",
       "\t<tr><td>58          </td><td>management  </td><td>married     </td><td>tertiary    </td><td>no          </td><td>2143        </td><td>yes         </td><td>no          </td><td>unknown     </td><td>5           </td><td>...         </td><td>1           </td><td>-1          </td><td>0           </td><td>unknown     </td><td>no          </td><td>1           </td><td> TRUE       </td><td>FALSE       </td><td>FALSE       </td><td>FALSE       </td></tr>\n",
       "\t<tr><td>44          </td><td>technician  </td><td>single      </td><td>secondary   </td><td>no          </td><td>  29        </td><td>yes         </td><td>no          </td><td>unknown     </td><td>5           </td><td>...         </td><td>1           </td><td>-1          </td><td>0           </td><td>unknown     </td><td>no          </td><td>2           </td><td>FALSE       </td><td>FALSE       </td><td> TRUE       </td><td>FALSE       </td></tr>\n",
       "\t<tr><td>33          </td><td>entrepreneur</td><td>married     </td><td>secondary   </td><td>no          </td><td>   2        </td><td>yes         </td><td>yes         </td><td>unknown     </td><td>5           </td><td>...         </td><td>1           </td><td>-1          </td><td>0           </td><td>unknown     </td><td>no          </td><td>3           </td><td>FALSE       </td><td>FALSE       </td><td> TRUE       </td><td>FALSE       </td></tr>\n",
       "\t<tr><td>47          </td><td>blue-collar </td><td>married     </td><td>unknown     </td><td>no          </td><td>1506        </td><td>yes         </td><td>no          </td><td>unknown     </td><td>5           </td><td>...         </td><td>1           </td><td>-1          </td><td>0           </td><td>unknown     </td><td>no          </td><td>4           </td><td>FALSE       </td><td>FALSE       </td><td>FALSE       </td><td> TRUE       </td></tr>\n",
       "\t<tr><td>33          </td><td>unknown     </td><td>single      </td><td>unknown     </td><td>no          </td><td>   1        </td><td>no          </td><td>no          </td><td>unknown     </td><td>5           </td><td>...         </td><td>1           </td><td>-1          </td><td>0           </td><td>unknown     </td><td>no          </td><td>5           </td><td>FALSE       </td><td>FALSE       </td><td>FALSE       </td><td> TRUE       </td></tr>\n",
       "\t<tr><td>35          </td><td>management  </td><td>married     </td><td>tertiary    </td><td>no          </td><td> 231        </td><td>yes         </td><td>no          </td><td>unknown     </td><td>5           </td><td>...         </td><td>1           </td><td>-1          </td><td>0           </td><td>unknown     </td><td>no          </td><td>6           </td><td> TRUE       </td><td>FALSE       </td><td>FALSE       </td><td>FALSE       </td></tr>\n",
       "</tbody>\n",
       "</table>\n"
      ],
      "text/latex": [
       "\\begin{tabular}{r|llllllllllllllllllllll}\n",
       " age & job & marital & education & default & balance & housing & loan & contact & day & ... & campaign & pdays & previous & poutcome & y & bank\\_id & tertiary & primary & secondary & unknown\\\\\n",
       "\\hline\n",
       "\t 58           & management   & married      & tertiary     & no           & 2143         & yes          & no           & unknown      & 5            & ...          & 1            & -1           & 0            & unknown      & no           & 1            &  TRUE        & FALSE        & FALSE        & FALSE       \\\\\n",
       "\t 44           & technician   & single       & secondary    & no           &   29         & yes          & no           & unknown      & 5            & ...          & 1            & -1           & 0            & unknown      & no           & 2            & FALSE        & FALSE        &  TRUE        & FALSE       \\\\\n",
       "\t 33           & entrepreneur & married      & secondary    & no           &    2         & yes          & yes          & unknown      & 5            & ...          & 1            & -1           & 0            & unknown      & no           & 3            & FALSE        & FALSE        &  TRUE        & FALSE       \\\\\n",
       "\t 47           & blue-collar  & married      & unknown      & no           & 1506         & yes          & no           & unknown      & 5            & ...          & 1            & -1           & 0            & unknown      & no           & 4            & FALSE        & FALSE        & FALSE        &  TRUE       \\\\\n",
       "\t 33           & unknown      & single       & unknown      & no           &    1         & no           & no           & unknown      & 5            & ...          & 1            & -1           & 0            & unknown      & no           & 5            & FALSE        & FALSE        & FALSE        &  TRUE       \\\\\n",
       "\t 35           & management   & married      & tertiary     & no           &  231         & yes          & no           & unknown      & 5            & ...          & 1            & -1           & 0            & unknown      & no           & 6            &  TRUE        & FALSE        & FALSE        & FALSE       \\\\\n",
       "\\end{tabular}\n"
      ],
      "text/markdown": [
       "\n",
       "age | job | marital | education | default | balance | housing | loan | contact | day | ... | campaign | pdays | previous | poutcome | y | bank_id | tertiary | primary | secondary | unknown | \n",
       "|---|---|---|---|---|---|\n",
       "| 58           | management   | married      | tertiary     | no           | 2143         | yes          | no           | unknown      | 5            | ...          | 1            | -1           | 0            | unknown      | no           | 1            |  TRUE        | FALSE        | FALSE        | FALSE        | \n",
       "| 44           | technician   | single       | secondary    | no           |   29         | yes          | no           | unknown      | 5            | ...          | 1            | -1           | 0            | unknown      | no           | 2            | FALSE        | FALSE        |  TRUE        | FALSE        | \n",
       "| 33           | entrepreneur | married      | secondary    | no           |    2         | yes          | yes          | unknown      | 5            | ...          | 1            | -1           | 0            | unknown      | no           | 3            | FALSE        | FALSE        |  TRUE        | FALSE        | \n",
       "| 47           | blue-collar  | married      | unknown      | no           | 1506         | yes          | no           | unknown      | 5            | ...          | 1            | -1           | 0            | unknown      | no           | 4            | FALSE        | FALSE        | FALSE        |  TRUE        | \n",
       "| 33           | unknown      | single       | unknown      | no           |    1         | no           | no           | unknown      | 5            | ...          | 1            | -1           | 0            | unknown      | no           | 5            | FALSE        | FALSE        | FALSE        |  TRUE        | \n",
       "| 35           | management   | married      | tertiary     | no           |  231         | yes          | no           | unknown      | 5            | ...          | 1            | -1           | 0            | unknown      | no           | 6            |  TRUE        | FALSE        | FALSE        | FALSE        | \n",
       "\n",
       "\n"
      ],
      "text/plain": [
       "  age job          marital education default balance housing loan contact day\n",
       "1 58  management   married tertiary  no      2143    yes     no   unknown 5  \n",
       "2 44  technician   single  secondary no        29    yes     no   unknown 5  \n",
       "3 33  entrepreneur married secondary no         2    yes     yes  unknown 5  \n",
       "4 47  blue-collar  married unknown   no      1506    yes     no   unknown 5  \n",
       "5 33  unknown      single  unknown   no         1    no      no   unknown 5  \n",
       "6 35  management   married tertiary  no       231    yes     no   unknown 5  \n",
       "  ... campaign pdays previous poutcome y  bank_id tertiary primary secondary\n",
       "1 ... 1        -1    0        unknown  no 1        TRUE    FALSE   FALSE    \n",
       "2 ... 1        -1    0        unknown  no 2       FALSE    FALSE    TRUE    \n",
       "3 ... 1        -1    0        unknown  no 3       FALSE    FALSE    TRUE    \n",
       "4 ... 1        -1    0        unknown  no 4       FALSE    FALSE   FALSE    \n",
       "5 ... 1        -1    0        unknown  no 5       FALSE    FALSE   FALSE    \n",
       "6 ... 1        -1    0        unknown  no 6        TRUE    FALSE   FALSE    \n",
       "  unknown\n",
       "1 FALSE  \n",
       "2 FALSE  \n",
       "3 FALSE  \n",
       "4  TRUE  \n",
       "5  TRUE  \n",
       "6 FALSE  "
      ]
     },
     "metadata": {},
     "output_type": "display_data"
    }
   ],
   "source": [
    "# creditors education type: Tertiary, Primary, Secondary,Unknown\n",
    "bank$tertiary <- FALSE\n",
    "bank$tertiary[bank$education == \"tertiary\"] <- TRUE\n",
    "\n",
    "bank$primary <- FALSE\n",
    "bank$primary[bank$education %like% \"primary\"] <- TRUE\n",
    "\n",
    "bank$secondary <- FALSE\n",
    "bank$secondary[bank$education %like% \"secondary\"] <- TRUE\n",
    "\n",
    "bank$unknown <- FALSE\n",
    "bank$unknown[bank$education %like% \"unknown\"] <- TRUE\n",
    "\n",
    "head(bank)"
   ]
  },
  {
   "cell_type": "code",
   "execution_count": 9,
   "metadata": {},
   "outputs": [
    {
     "data": {
      "text/html": [
       "<table>\n",
       "<thead><tr><th scope=col>bal</th><th scope=col>dtion</th><th scope=col>edumar</th><th scope=col>age</th><th scope=col>job</th><th scope=col>default</th><th scope=col>housing</th><th scope=col>loan</th><th scope=col>contact</th><th scope=col>day</th><th scope=col>month</th><th scope=col>pdays</th><th scope=col>previous</th><th scope=col>poutcome</th><th scope=col>y</th><th scope=col>bank_id</th><th scope=col>tertiary</th><th scope=col>primary</th><th scope=col>secondary</th><th scope=col>unknown</th></tr></thead>\n",
       "<tbody>\n",
       "\t<tr><td> TRUE       </td><td>FALSE       </td><td> TRUE       </td><td>58          </td><td>management  </td><td>no          </td><td>yes         </td><td>no          </td><td>unknown     </td><td>5           </td><td>may         </td><td>-1          </td><td>0           </td><td>unknown     </td><td>no          </td><td>1           </td><td> TRUE       </td><td>FALSE       </td><td>FALSE       </td><td>FALSE       </td></tr>\n",
       "\t<tr><td>FALSE       </td><td>FALSE       </td><td>FALSE       </td><td>44          </td><td>technician  </td><td>no          </td><td>yes         </td><td>no          </td><td>unknown     </td><td>5           </td><td>may         </td><td>-1          </td><td>0           </td><td>unknown     </td><td>no          </td><td>2           </td><td>FALSE       </td><td>FALSE       </td><td> TRUE       </td><td>FALSE       </td></tr>\n",
       "\t<tr><td>FALSE       </td><td> TRUE       </td><td>FALSE       </td><td>33          </td><td>entrepreneur</td><td>no          </td><td>yes         </td><td>yes         </td><td>unknown     </td><td>5           </td><td>may         </td><td>-1          </td><td>0           </td><td>unknown     </td><td>no          </td><td>3           </td><td>FALSE       </td><td>FALSE       </td><td> TRUE       </td><td>FALSE       </td></tr>\n",
       "\t<tr><td>FALSE       </td><td> TRUE       </td><td> TRUE       </td><td>35          </td><td>management  </td><td>no          </td><td>yes         </td><td>no          </td><td>unknown     </td><td>5           </td><td>may         </td><td>-1          </td><td>0           </td><td>unknown     </td><td>no          </td><td>6           </td><td> TRUE       </td><td>FALSE       </td><td>FALSE       </td><td>FALSE       </td></tr>\n",
       "\t<tr><td>FALSE       </td><td>FALSE       </td><td>FALSE       </td><td>28          </td><td>management  </td><td>no          </td><td>yes         </td><td>yes         </td><td>unknown     </td><td>5           </td><td>may         </td><td>-1          </td><td>0           </td><td>unknown     </td><td>no          </td><td>7           </td><td> TRUE       </td><td>FALSE       </td><td>FALSE       </td><td>FALSE       </td></tr>\n",
       "\t<tr><td>FALSE       </td><td>FALSE       </td><td>FALSE       </td><td>42          </td><td>entrepreneur</td><td>yes         </td><td>yes         </td><td>no          </td><td>unknown     </td><td>5           </td><td>may         </td><td>-1          </td><td>0           </td><td>unknown     </td><td>no          </td><td>8           </td><td> TRUE       </td><td>FALSE       </td><td>FALSE       </td><td>FALSE       </td></tr>\n",
       "</tbody>\n",
       "</table>\n"
      ],
      "text/latex": [
       "\\begin{tabular}{r|llllllllllllllllllll}\n",
       " bal & dtion & edumar & age & job & default & housing & loan & contact & day & month & pdays & previous & poutcome & y & bank\\_id & tertiary & primary & secondary & unknown\\\\\n",
       "\\hline\n",
       "\t  TRUE        & FALSE        &  TRUE        & 58           & management   & no           & yes          & no           & unknown      & 5            & may          & -1           & 0            & unknown      & no           & 1            &  TRUE        & FALSE        & FALSE        & FALSE       \\\\\n",
       "\t FALSE        & FALSE        & FALSE        & 44           & technician   & no           & yes          & no           & unknown      & 5            & may          & -1           & 0            & unknown      & no           & 2            & FALSE        & FALSE        &  TRUE        & FALSE       \\\\\n",
       "\t FALSE        &  TRUE        & FALSE        & 33           & entrepreneur & no           & yes          & yes          & unknown      & 5            & may          & -1           & 0            & unknown      & no           & 3            & FALSE        & FALSE        &  TRUE        & FALSE       \\\\\n",
       "\t FALSE        &  TRUE        &  TRUE        & 35           & management   & no           & yes          & no           & unknown      & 5            & may          & -1           & 0            & unknown      & no           & 6            &  TRUE        & FALSE        & FALSE        & FALSE       \\\\\n",
       "\t FALSE        & FALSE        & FALSE        & 28           & management   & no           & yes          & yes          & unknown      & 5            & may          & -1           & 0            & unknown      & no           & 7            &  TRUE        & FALSE        & FALSE        & FALSE       \\\\\n",
       "\t FALSE        & FALSE        & FALSE        & 42           & entrepreneur & yes          & yes          & no           & unknown      & 5            & may          & -1           & 0            & unknown      & no           & 8            &  TRUE        & FALSE        & FALSE        & FALSE       \\\\\n",
       "\\end{tabular}\n"
      ],
      "text/markdown": [
       "\n",
       "bal | dtion | edumar | age | job | default | housing | loan | contact | day | month | pdays | previous | poutcome | y | bank_id | tertiary | primary | secondary | unknown | \n",
       "|---|---|---|---|---|---|\n",
       "|  TRUE        | FALSE        |  TRUE        | 58           | management   | no           | yes          | no           | unknown      | 5            | may          | -1           | 0            | unknown      | no           | 1            |  TRUE        | FALSE        | FALSE        | FALSE        | \n",
       "| FALSE        | FALSE        | FALSE        | 44           | technician   | no           | yes          | no           | unknown      | 5            | may          | -1           | 0            | unknown      | no           | 2            | FALSE        | FALSE        |  TRUE        | FALSE        | \n",
       "| FALSE        |  TRUE        | FALSE        | 33           | entrepreneur | no           | yes          | yes          | unknown      | 5            | may          | -1           | 0            | unknown      | no           | 3            | FALSE        | FALSE        |  TRUE        | FALSE        | \n",
       "| FALSE        |  TRUE        |  TRUE        | 35           | management   | no           | yes          | no           | unknown      | 5            | may          | -1           | 0            | unknown      | no           | 6            |  TRUE        | FALSE        | FALSE        | FALSE        | \n",
       "| FALSE        | FALSE        | FALSE        | 28           | management   | no           | yes          | yes          | unknown      | 5            | may          | -1           | 0            | unknown      | no           | 7            |  TRUE        | FALSE        | FALSE        | FALSE        | \n",
       "| FALSE        | FALSE        | FALSE        | 42           | entrepreneur | yes          | yes          | no           | unknown      | 5            | may          | -1           | 0            | unknown      | no           | 8            |  TRUE        | FALSE        | FALSE        | FALSE        | \n",
       "\n",
       "\n"
      ],
      "text/plain": [
       "  bal   dtion edumar age job          default housing loan contact day month\n",
       "1  TRUE FALSE  TRUE  58  management   no      yes     no   unknown 5   may  \n",
       "2 FALSE FALSE FALSE  44  technician   no      yes     no   unknown 5   may  \n",
       "3 FALSE  TRUE FALSE  33  entrepreneur no      yes     yes  unknown 5   may  \n",
       "4 FALSE  TRUE  TRUE  35  management   no      yes     no   unknown 5   may  \n",
       "5 FALSE FALSE FALSE  28  management   no      yes     yes  unknown 5   may  \n",
       "6 FALSE FALSE FALSE  42  entrepreneur yes     yes     no   unknown 5   may  \n",
       "  pdays previous poutcome y  bank_id tertiary primary secondary unknown\n",
       "1 -1    0        unknown  no 1        TRUE    FALSE   FALSE     FALSE  \n",
       "2 -1    0        unknown  no 2       FALSE    FALSE    TRUE     FALSE  \n",
       "3 -1    0        unknown  no 3       FALSE    FALSE    TRUE     FALSE  \n",
       "4 -1    0        unknown  no 6        TRUE    FALSE   FALSE     FALSE  \n",
       "5 -1    0        unknown  no 7        TRUE    FALSE   FALSE     FALSE  \n",
       "6 -1    0        unknown  no 8        TRUE    FALSE   FALSE     FALSE  "
      ]
     },
     "metadata": {},
     "output_type": "display_data"
    }
   ],
   "source": [
    "# not use unknown education creditors \n",
    "\n",
    "bank <- bank %>% dplyr::filter(unknown == FALSE)\n",
    "\n",
    "bkmk_perf <- bank %>%\n",
    "dplyr::mutate(\n",
    "bal = (balance > 1000),\n",
    "dtion = (duration < 150),\n",
    "edumar = (education == \"tertiary\" & marital == \"married\"),\n",
    "age = age,\n",
    "job = job,\n",
    "default = default,\n",
    "housing = housing,\n",
    "loan = loan,\n",
    "contact = contact,\n",
    "day = day,\n",
    "month = month,\n",
    "pdays = pdays,\n",
    "previous = previous,\n",
    "poutcome = poutcome,\n",
    "y = y,\n",
    "bank_id = bank_id,\n",
    "tertiary = tertiary,\n",
    "primary = primary,\n",
    "secondary = secondary,\n",
    "unknown = unknown) %>%\n",
    "dplyr::select (bal, dtion, edumar, age, job, default, housing, loan, contact, day, month, pdays, previous, poutcome,y,bank_id,tertiary,primary,secondary,unknown)\n",
    "head(bkmk_perf)"
   ]
  },
  {
   "cell_type": "code",
   "execution_count": 10,
   "metadata": {},
   "outputs": [
    {
     "data": {},
     "metadata": {},
     "output_type": "display_data"
    },
    {
     "data": {
      "image/png": "[encoded data removed]",
      "text/plain": [
       "plot without title"
      ]
     },
     "metadata": {},
     "output_type": "display_data"
    }
   ],
   "source": [
    "formula_balpercentage <- function(totalcustomers, balance) {\n",
    "  return ((balance) / totalcustomers)\n",
    "}\n",
    "\n",
    "plot_balpercentage <- function(bkmk_perf, mincustomers) {\n",
    "  bkmk_perf %>%\n",
    "    group_by(job) %>%\n",
    "    summarize(\n",
    "      totalcustomers = n(),\n",
    "      balance = length(bal[bal==TRUE]),\n",
    "      balpercentage = formula_balpercentage(totalcustomers, balance)\n",
    "    ) %>%\n",
    "    filter(totalcustomers >= mincustomers ) %>%\n",
    "    ggplot(mapping = aes(x = balpercentage, y = totalcustomers)) +\n",
    "    geom_point(size = 1.5) + \n",
    "    geom_text(aes(label=job), hjust=-.2 , vjust=-.2, size=3) +\n",
    "    geom_vline(xintercept = .5, linetype = 2, color = \"red\") +\n",
    "    ggtitle(\"Balance Percentage vs Customers\") +\n",
    "    expand_limits(x = c(0,1))\n",
    "} \n",
    "\n",
    "plot_balpercentage(bkmk_perf, 900)"
   ]
  },
  {
   "cell_type": "code",
   "execution_count": 11,
   "metadata": {},
   "outputs": [
    {
     "data": {
      "text/html": [
       "<table>\n",
       "<thead><tr><th scope=col>bal</th><th scope=col>dtion</th><th scope=col>edumar</th><th scope=col>age</th><th scope=col>job</th><th scope=col>default</th><th scope=col>housing</th><th scope=col>loan</th><th scope=col>contact</th><th scope=col>day</th><th scope=col>month</th><th scope=col>pdays</th><th scope=col>previous</th><th scope=col>poutcome</th><th scope=col>y</th><th scope=col>bank_id</th><th scope=col>tertiary</th><th scope=col>primary</th><th scope=col>secondary</th><th scope=col>unknown</th></tr></thead>\n",
       "<tbody>\n",
       "\t<tr><td> TRUE       </td><td>FALSE       </td><td> TRUE       </td><td>58          </td><td>Management  </td><td>no          </td><td>yes         </td><td>no          </td><td>unknown     </td><td>5           </td><td>may         </td><td>-1          </td><td>0           </td><td>unknown     </td><td>no          </td><td>1           </td><td> TRUE       </td><td>FALSE       </td><td>FALSE       </td><td>FALSE       </td></tr>\n",
       "\t<tr><td>FALSE       </td><td>FALSE       </td><td>FALSE       </td><td>44          </td><td>Technician  </td><td>no          </td><td>yes         </td><td>no          </td><td>unknown     </td><td>5           </td><td>may         </td><td>-1          </td><td>0           </td><td>unknown     </td><td>no          </td><td>2           </td><td>FALSE       </td><td>FALSE       </td><td> TRUE       </td><td>FALSE       </td></tr>\n",
       "\t<tr><td>FALSE       </td><td> TRUE       </td><td>FALSE       </td><td>33          </td><td>Entrepreneur</td><td>no          </td><td>yes         </td><td>yes         </td><td>unknown     </td><td>5           </td><td>may         </td><td>-1          </td><td>0           </td><td>unknown     </td><td>no          </td><td>3           </td><td>FALSE       </td><td>FALSE       </td><td> TRUE       </td><td>FALSE       </td></tr>\n",
       "\t<tr><td>FALSE       </td><td> TRUE       </td><td> TRUE       </td><td>35          </td><td>Management  </td><td>no          </td><td>yes         </td><td>no          </td><td>unknown     </td><td>5           </td><td>may         </td><td>-1          </td><td>0           </td><td>unknown     </td><td>no          </td><td>6           </td><td> TRUE       </td><td>FALSE       </td><td>FALSE       </td><td>FALSE       </td></tr>\n",
       "\t<tr><td>FALSE       </td><td>FALSE       </td><td>FALSE       </td><td>28          </td><td>Management  </td><td>no          </td><td>yes         </td><td>yes         </td><td>unknown     </td><td>5           </td><td>may         </td><td>-1          </td><td>0           </td><td>unknown     </td><td>no          </td><td>7           </td><td> TRUE       </td><td>FALSE       </td><td>FALSE       </td><td>FALSE       </td></tr>\n",
       "\t<tr><td>FALSE       </td><td>FALSE       </td><td>FALSE       </td><td>42          </td><td>Entrepreneur</td><td>yes         </td><td>yes         </td><td>no          </td><td>unknown     </td><td>5           </td><td>may         </td><td>-1          </td><td>0           </td><td>unknown     </td><td>no          </td><td>8           </td><td> TRUE       </td><td>FALSE       </td><td>FALSE       </td><td>FALSE       </td></tr>\n",
       "</tbody>\n",
       "</table>\n"
      ],
      "text/latex": [
       "\\begin{tabular}{r|llllllllllllllllllll}\n",
       " bal & dtion & edumar & age & job & default & housing & loan & contact & day & month & pdays & previous & poutcome & y & bank\\_id & tertiary & primary & secondary & unknown\\\\\n",
       "\\hline\n",
       "\t  TRUE        & FALSE        &  TRUE        & 58           & Management   & no           & yes          & no           & unknown      & 5            & may          & -1           & 0            & unknown      & no           & 1            &  TRUE        & FALSE        & FALSE        & FALSE       \\\\\n",
       "\t FALSE        & FALSE        & FALSE        & 44           & Technician   & no           & yes          & no           & unknown      & 5            & may          & -1           & 0            & unknown      & no           & 2            & FALSE        & FALSE        &  TRUE        & FALSE       \\\\\n",
       "\t FALSE        &  TRUE        & FALSE        & 33           & Entrepreneur & no           & yes          & yes          & unknown      & 5            & may          & -1           & 0            & unknown      & no           & 3            & FALSE        & FALSE        &  TRUE        & FALSE       \\\\\n",
       "\t FALSE        &  TRUE        &  TRUE        & 35           & Management   & no           & yes          & no           & unknown      & 5            & may          & -1           & 0            & unknown      & no           & 6            &  TRUE        & FALSE        & FALSE        & FALSE       \\\\\n",
       "\t FALSE        & FALSE        & FALSE        & 28           & Management   & no           & yes          & yes          & unknown      & 5            & may          & -1           & 0            & unknown      & no           & 7            &  TRUE        & FALSE        & FALSE        & FALSE       \\\\\n",
       "\t FALSE        & FALSE        & FALSE        & 42           & Entrepreneur & yes          & yes          & no           & unknown      & 5            & may          & -1           & 0            & unknown      & no           & 8            &  TRUE        & FALSE        & FALSE        & FALSE       \\\\\n",
       "\\end{tabular}\n"
      ],
      "text/markdown": [
       "\n",
       "bal | dtion | edumar | age | job | default | housing | loan | contact | day | month | pdays | previous | poutcome | y | bank_id | tertiary | primary | secondary | unknown | \n",
       "|---|---|---|---|---|---|\n",
       "|  TRUE        | FALSE        |  TRUE        | 58           | Management   | no           | yes          | no           | unknown      | 5            | may          | -1           | 0            | unknown      | no           | 1            |  TRUE        | FALSE        | FALSE        | FALSE        | \n",
       "| FALSE        | FALSE        | FALSE        | 44           | Technician   | no           | yes          | no           | unknown      | 5            | may          | -1           | 0            | unknown      | no           | 2            | FALSE        | FALSE        |  TRUE        | FALSE        | \n",
       "| FALSE        |  TRUE        | FALSE        | 33           | Entrepreneur | no           | yes          | yes          | unknown      | 5            | may          | -1           | 0            | unknown      | no           | 3            | FALSE        | FALSE        |  TRUE        | FALSE        | \n",
       "| FALSE        |  TRUE        |  TRUE        | 35           | Management   | no           | yes          | no           | unknown      | 5            | may          | -1           | 0            | unknown      | no           | 6            |  TRUE        | FALSE        | FALSE        | FALSE        | \n",
       "| FALSE        | FALSE        | FALSE        | 28           | Management   | no           | yes          | yes          | unknown      | 5            | may          | -1           | 0            | unknown      | no           | 7            |  TRUE        | FALSE        | FALSE        | FALSE        | \n",
       "| FALSE        | FALSE        | FALSE        | 42           | Entrepreneur | yes          | yes          | no           | unknown      | 5            | may          | -1           | 0            | unknown      | no           | 8            |  TRUE        | FALSE        | FALSE        | FALSE        | \n",
       "\n",
       "\n"
      ],
      "text/plain": [
       "  bal   dtion edumar age job          default housing loan contact day month\n",
       "1  TRUE FALSE  TRUE  58  Management   no      yes     no   unknown 5   may  \n",
       "2 FALSE FALSE FALSE  44  Technician   no      yes     no   unknown 5   may  \n",
       "3 FALSE  TRUE FALSE  33  Entrepreneur no      yes     yes  unknown 5   may  \n",
       "4 FALSE  TRUE  TRUE  35  Management   no      yes     no   unknown 5   may  \n",
       "5 FALSE FALSE FALSE  28  Management   no      yes     yes  unknown 5   may  \n",
       "6 FALSE FALSE FALSE  42  Entrepreneur yes     yes     no   unknown 5   may  \n",
       "  pdays previous poutcome y  bank_id tertiary primary secondary unknown\n",
       "1 -1    0        unknown  no 1        TRUE    FALSE   FALSE     FALSE  \n",
       "2 -1    0        unknown  no 2       FALSE    FALSE    TRUE     FALSE  \n",
       "3 -1    0        unknown  no 3       FALSE    FALSE    TRUE     FALSE  \n",
       "4 -1    0        unknown  no 6        TRUE    FALSE   FALSE     FALSE  \n",
       "5 -1    0        unknown  no 7        TRUE    FALSE   FALSE     FALSE  \n",
       "6 -1    0        unknown  no 8        TRUE    FALSE   FALSE     FALSE  "
      ]
     },
     "metadata": {},
     "output_type": "display_data"
    }
   ],
   "source": [
    "# transform old job names into new ones( with CL).\n",
    "jobNodeMappings <- matrix(c(\n",
    "  \"management\",\"Management\",\n",
    "  \"technician\",\"Technician\",\n",
    "  \"entrepreneur\",\"Entrepreneur\",\n",
    "  \"blue-collar\",\"Blue-collar\",\n",
    "  \"unknown\",\"Unknown\",\n",
    "  \"services\",\"Services\",\n",
    "  \"retired\",\"Retired\"\n",
    "), ncol=2, byrow = TRUE)\n",
    "\n",
    "for (i in 1:nrow(jobNodeMappings)) {\n",
    "  bkmk_perf$job[bkmk_perf$job == jobNodeMappings[i,1]] <- jobNodeMappings[i,2]\n",
    "  \n",
    "  bank$job[bank$job == jobNodeMappings[i,1]] <- jobNodeMappings[i,2]\n",
    "  \n",
    "}\n",
    "\n",
    "head(bkmk_perf)"
   ]
  },
  {
   "cell_type": "code",
   "execution_count": 12,
   "metadata": {},
   "outputs": [
    {
     "data": {
      "text/html": [
       "<table>\n",
       "<thead><tr><th scope=col>marital</th><th scope=col>job</th><th scope=col>n</th><th scope=col>freq</th><th scope=col>maritaltext</th></tr></thead>\n",
       "<tbody>\n",
       "\t<tr><td>married                 </td><td>Blue-collar             </td><td>5563                    </td><td>0.16321920              </td><td>married vs Blue-collar  </td></tr>\n",
       "\t<tr><td>married                 </td><td>Management              </td><td>4109                    </td><td>0.12055864              </td><td>married vs Management   </td></tr>\n",
       "\t<tr><td>married                 </td><td>Technician              </td><td>2942                    </td><td>0.08631869              </td><td>married vs Technician   </td></tr>\n",
       "\t<tr><td>single                  </td><td>Management              </td><td>2265                    </td><td>0.06645542              </td><td>single vs Management    </td></tr>\n",
       "\t<tr><td>married                 </td><td>admin.                  </td><td>1956                    </td><td>0.05738931              </td><td>married vs admin.       </td></tr>\n",
       "\t<tr><td>single                  </td><td>Technician              </td><td>1928                    </td><td>0.05656779              </td><td>single vs Technician    </td></tr>\n",
       "\t<tr><td>married                 </td><td>Services                </td><td>1820                    </td><td>0.05339906              </td><td>married vs Services     </td></tr>\n",
       "\t<tr><td>single                  </td><td>Blue-collar             </td><td>1572                    </td><td>0.04612270              </td><td>single vs Blue-collar   </td></tr>\n",
       "\t<tr><td>married                 </td><td>Retired                 </td><td>1339                    </td><td>0.03928645              </td><td>married vs Retired      </td></tr>\n",
       "\t<tr><td>single                  </td><td>admin.                  </td><td>1259                    </td><td>0.03693924              </td><td>single vs admin.        </td></tr>\n",
       "\t<tr><td>single                  </td><td>Services                </td><td> 894                    </td><td>0.02623009              </td><td>single vs Services      </td></tr>\n",
       "\t<tr><td>divorced                </td><td>Management              </td><td> 846                    </td><td>0.02482176              </td><td>divorced vs Management  </td></tr>\n",
       "\t<tr><td>married                 </td><td>Entrepreneur            </td><td> 795                    </td><td>0.02332541              </td><td>married vs Entrepreneur </td></tr>\n",
       "\t<tr><td>married                 </td><td>self-employed           </td><td> 749                    </td><td>0.02197577              </td><td>married vs self-employed</td></tr>\n",
       "\t<tr><td>divorced                </td><td>Technician              </td><td> 689                    </td><td>0.02021536              </td><td>divorced vs Technician  </td></tr>\n",
       "</tbody>\n",
       "</table>\n"
      ],
      "text/latex": [
       "\\begin{tabular}{r|lllll}\n",
       " marital & job & n & freq & maritaltext\\\\\n",
       "\\hline\n",
       "\t married                  & Blue-collar              & 5563                     & 0.16321920               & married vs Blue-collar  \\\\\n",
       "\t married                  & Management               & 4109                     & 0.12055864               & married vs Management   \\\\\n",
       "\t married                  & Technician               & 2942                     & 0.08631869               & married vs Technician   \\\\\n",
       "\t single                   & Management               & 2265                     & 0.06645542               & single vs Management    \\\\\n",
       "\t married                  & admin.                   & 1956                     & 0.05738931               & married vs admin.       \\\\\n",
       "\t single                   & Technician               & 1928                     & 0.05656779               & single vs Technician    \\\\\n",
       "\t married                  & Services                 & 1820                     & 0.05339906               & married vs Services     \\\\\n",
       "\t single                   & Blue-collar              & 1572                     & 0.04612270               & single vs Blue-collar   \\\\\n",
       "\t married                  & Retired                  & 1339                     & 0.03928645               & married vs Retired      \\\\\n",
       "\t single                   & admin.                   & 1259                     & 0.03693924               & single vs admin.        \\\\\n",
       "\t single                   & Services                 &  894                     & 0.02623009               & single vs Services      \\\\\n",
       "\t divorced                 & Management               &  846                     & 0.02482176               & divorced vs Management  \\\\\n",
       "\t married                  & Entrepreneur             &  795                     & 0.02332541               & married vs Entrepreneur \\\\\n",
       "\t married                  & self-employed            &  749                     & 0.02197577               & married vs self-employed\\\\\n",
       "\t divorced                 & Technician               &  689                     & 0.02021536               & divorced vs Technician  \\\\\n",
       "\\end{tabular}\n"
      ],
      "text/markdown": [
       "\n",
       "marital | job | n | freq | maritaltext | \n",
       "|---|---|---|---|---|---|---|---|---|---|---|---|---|---|---|\n",
       "| married                  | Blue-collar              | 5563                     | 0.16321920               | married vs Blue-collar   | \n",
       "| married                  | Management               | 4109                     | 0.12055864               | married vs Management    | \n",
       "| married                  | Technician               | 2942                     | 0.08631869               | married vs Technician    | \n",
       "| single                   | Management               | 2265                     | 0.06645542               | single vs Management     | \n",
       "| married                  | admin.                   | 1956                     | 0.05738931               | married vs admin.        | \n",
       "| single                   | Technician               | 1928                     | 0.05656779               | single vs Technician     | \n",
       "| married                  | Services                 | 1820                     | 0.05339906               | married vs Services      | \n",
       "| single                   | Blue-collar              | 1572                     | 0.04612270               | single vs Blue-collar    | \n",
       "| married                  | Retired                  | 1339                     | 0.03928645               | married vs Retired       | \n",
       "| single                   | admin.                   | 1259                     | 0.03693924               | single vs admin.         | \n",
       "| single                   | Services                 |  894                     | 0.02623009               | single vs Services       | \n",
       "| divorced                 | Management               |  846                     | 0.02482176               | divorced vs Management   | \n",
       "| married                  | Entrepreneur             |  795                     | 0.02332541               | married vs Entrepreneur  | \n",
       "| married                  | self-employed            |  749                     | 0.02197577               | married vs self-employed | \n",
       "| divorced                 | Technician               |  689                     | 0.02021536               | divorced vs Technician   | \n",
       "\n",
       "\n"
      ],
      "text/plain": [
       "   marital  job           n    freq       maritaltext             \n",
       "1  married  Blue-collar   5563 0.16321920 married vs Blue-collar  \n",
       "2  married  Management    4109 0.12055864 married vs Management   \n",
       "3  married  Technician    2942 0.08631869 married vs Technician   \n",
       "4  single   Management    2265 0.06645542 single vs Management    \n",
       "5  married  admin.        1956 0.05738931 married vs admin.       \n",
       "6  single   Technician    1928 0.05656779 single vs Technician    \n",
       "7  married  Services      1820 0.05339906 married vs Services     \n",
       "8  single   Blue-collar   1572 0.04612270 single vs Blue-collar   \n",
       "9  married  Retired       1339 0.03928645 married vs Retired      \n",
       "10 single   admin.        1259 0.03693924 single vs admin.        \n",
       "11 single   Services       894 0.02623009 single vs Services      \n",
       "12 divorced Management     846 0.02482176 divorced vs Management  \n",
       "13 married  Entrepreneur   795 0.02332541 married vs Entrepreneur \n",
       "14 married  self-employed  749 0.02197577 married vs self-employed\n",
       "15 divorced Technician     689 0.02021536 divorced vs Technician  "
      ]
     },
     "metadata": {},
     "output_type": "display_data"
    }
   ],
   "source": [
    "# what is the occurence frequency for martital statut?\n",
    "\n",
    "maritalfreq <- bank %>%\n",
    "  group_by(marital,job) %>%\n",
    "  summarise(\n",
    "    n = n(),\n",
    "    freq = n / nrow(bank)\n",
    "  ) %>%\n",
    "  ungroup() %>%\n",
    "  mutate(\n",
    "    maritaltext = paste(marital,\"vs\",job)\n",
    "  ) %>%\n",
    "  arrange(desc(freq)) \n",
    "\n",
    "head(maritalfreq, 15)"
   ]
  },
  {
   "cell_type": "code",
   "execution_count": 13,
   "metadata": {},
   "outputs": [
    {
     "data": {
      "text/html": [
       "<table>\n",
       "<thead><tr><th scope=col>bal</th><th scope=col>n</th><th scope=col>freq</th></tr></thead>\n",
       "<tbody>\n",
       "\t<tr><td>  0        </td><td>159        </td><td>0.004665082</td></tr>\n",
       "\t<tr><td>  1        </td><td> 81        </td><td>0.002376551</td></tr>\n",
       "\t<tr><td>  3        </td><td> 71        </td><td>0.002083150</td></tr>\n",
       "\t<tr><td>  2        </td><td> 70        </td><td>0.002053810</td></tr>\n",
       "\t<tr><td>  4        </td><td> 69        </td><td>0.002024470</td></tr>\n",
       "\t<tr><td>  5        </td><td> 67        </td><td>0.001965789</td></tr>\n",
       "\t<tr><td>  6        </td><td> 57        </td><td>0.001672388</td></tr>\n",
       "\t<tr><td> 11        </td><td> 51        </td><td>0.001496347</td></tr>\n",
       "\t<tr><td>  8        </td><td> 47        </td><td>0.001378987</td></tr>\n",
       "\t<tr><td> 20        </td><td> 47        </td><td>0.001378987</td></tr>\n",
       "\t<tr><td> 23        </td><td> 47        </td><td>0.001378987</td></tr>\n",
       "\t<tr><td> 25        </td><td> 47        </td><td>0.001378987</td></tr>\n",
       "\t<tr><td> 10        </td><td> 46        </td><td>0.001349646</td></tr>\n",
       "\t<tr><td> 21        </td><td> 46        </td><td>0.001349646</td></tr>\n",
       "\t<tr><td> 91        </td><td> 43        </td><td>0.001261626</td></tr>\n",
       "\t<tr><td>  7        </td><td> 42        </td><td>0.001232286</td></tr>\n",
       "\t<tr><td> 33        </td><td> 42        </td><td>0.001232286</td></tr>\n",
       "\t<tr><td>145        </td><td> 42        </td><td>0.001232286</td></tr>\n",
       "\t<tr><td> 12        </td><td> 41        </td><td>0.001202946</td></tr>\n",
       "\t<tr><td> 16        </td><td> 41        </td><td>0.001202946</td></tr>\n",
       "\t<tr><td> 19        </td><td> 41        </td><td>0.001202946</td></tr>\n",
       "\t<tr><td>223        </td><td> 41        </td><td>0.001202946</td></tr>\n",
       "\t<tr><td> 15        </td><td> 40        </td><td>0.001173606</td></tr>\n",
       "\t<tr><td> 31        </td><td> 40        </td><td>0.001173606</td></tr>\n",
       "\t<tr><td> 46        </td><td> 40        </td><td>0.001173606</td></tr>\n",
       "</tbody>\n",
       "</table>\n"
      ],
      "text/latex": [
       "\\begin{tabular}{r|lll}\n",
       " bal & n & freq\\\\\n",
       "\\hline\n",
       "\t   0         & 159         & 0.004665082\\\\\n",
       "\t   1         &  81         & 0.002376551\\\\\n",
       "\t   3         &  71         & 0.002083150\\\\\n",
       "\t   2         &  70         & 0.002053810\\\\\n",
       "\t   4         &  69         & 0.002024470\\\\\n",
       "\t   5         &  67         & 0.001965789\\\\\n",
       "\t   6         &  57         & 0.001672388\\\\\n",
       "\t  11         &  51         & 0.001496347\\\\\n",
       "\t   8         &  47         & 0.001378987\\\\\n",
       "\t  20         &  47         & 0.001378987\\\\\n",
       "\t  23         &  47         & 0.001378987\\\\\n",
       "\t  25         &  47         & 0.001378987\\\\\n",
       "\t  10         &  46         & 0.001349646\\\\\n",
       "\t  21         &  46         & 0.001349646\\\\\n",
       "\t  91         &  43         & 0.001261626\\\\\n",
       "\t   7         &  42         & 0.001232286\\\\\n",
       "\t  33         &  42         & 0.001232286\\\\\n",
       "\t 145         &  42         & 0.001232286\\\\\n",
       "\t  12         &  41         & 0.001202946\\\\\n",
       "\t  16         &  41         & 0.001202946\\\\\n",
       "\t  19         &  41         & 0.001202946\\\\\n",
       "\t 223         &  41         & 0.001202946\\\\\n",
       "\t  15         &  40         & 0.001173606\\\\\n",
       "\t  31         &  40         & 0.001173606\\\\\n",
       "\t  46         &  40         & 0.001173606\\\\\n",
       "\\end{tabular}\n"
      ],
      "text/markdown": [
       "\n",
       "bal | n | freq | \n",
       "|---|---|---|---|---|---|---|---|---|---|---|---|---|---|---|---|---|---|---|---|---|---|---|---|---|\n",
       "|   0         | 159         | 0.004665082 | \n",
       "|   1         |  81         | 0.002376551 | \n",
       "|   3         |  71         | 0.002083150 | \n",
       "|   2         |  70         | 0.002053810 | \n",
       "|   4         |  69         | 0.002024470 | \n",
       "|   5         |  67         | 0.001965789 | \n",
       "|   6         |  57         | 0.001672388 | \n",
       "|  11         |  51         | 0.001496347 | \n",
       "|   8         |  47         | 0.001378987 | \n",
       "|  20         |  47         | 0.001378987 | \n",
       "|  23         |  47         | 0.001378987 | \n",
       "|  25         |  47         | 0.001378987 | \n",
       "|  10         |  46         | 0.001349646 | \n",
       "|  21         |  46         | 0.001349646 | \n",
       "|  91         |  43         | 0.001261626 | \n",
       "|   7         |  42         | 0.001232286 | \n",
       "|  33         |  42         | 0.001232286 | \n",
       "| 145         |  42         | 0.001232286 | \n",
       "|  12         |  41         | 0.001202946 | \n",
       "|  16         |  41         | 0.001202946 | \n",
       "|  19         |  41         | 0.001202946 | \n",
       "| 223         |  41         | 0.001202946 | \n",
       "|  15         |  40         | 0.001173606 | \n",
       "|  31         |  40         | 0.001173606 | \n",
       "|  46         |  40         | 0.001173606 | \n",
       "\n",
       "\n"
      ],
      "text/plain": [
       "   bal n   freq       \n",
       "1    0 159 0.004665082\n",
       "2    1  81 0.002376551\n",
       "3    3  71 0.002083150\n",
       "4    2  70 0.002053810\n",
       "5    4  69 0.002024470\n",
       "6    5  67 0.001965789\n",
       "7    6  57 0.001672388\n",
       "8   11  51 0.001496347\n",
       "9    8  47 0.001378987\n",
       "10  20  47 0.001378987\n",
       "11  23  47 0.001378987\n",
       "12  25  47 0.001378987\n",
       "13  10  46 0.001349646\n",
       "14  21  46 0.001349646\n",
       "15  91  43 0.001261626\n",
       "16   7  42 0.001232286\n",
       "17  33  42 0.001232286\n",
       "18 145  42 0.001232286\n",
       "19  12  41 0.001202946\n",
       "20  16  41 0.001202946\n",
       "21  19  41 0.001202946\n",
       "22 223  41 0.001202946\n",
       "23  15  40 0.001173606\n",
       "24  31  40 0.001173606\n",
       "25  46  40 0.001173606"
      ]
     },
     "metadata": {},
     "output_type": "display_data"
    },
    {
     "data": {},
     "metadata": {},
     "output_type": "display_data"
    },
    {
     "data": {
      "image/png": "[encoded data removed]",
      "text/plain": [
       "plot without title"
      ]
     },
     "metadata": {},
     "output_type": "display_data"
    }
   ],
   "source": [
    "# distribution of balance per customer\n",
    "balancefreq <- bank %>%\n",
    "  group_by(bal= balance) %>%\n",
    "  summarise(\n",
    "    n = n(),\n",
    "    freq = n / nrow(bank)\n",
    "  ) %>%\n",
    "  ungroup() %>%\n",
    "  arrange(desc(freq)) \n",
    "\n",
    "head(balancefreq, 25)\n",
    "\n",
    "balancefreq %>%\n",
    "  filter(freq >= 0.001) %>%\n",
    "  ggplot(mapping = aes(x = bal, y = freq)) + geom_bar(stat = \"identity\") + ggtitle(\"Balance  per customer distribution\")"
   ]
  },
  {
   "cell_type": "code",
   "execution_count": 14,
   "metadata": {},
   "outputs": [
    {
     "data": {
      "text/html": [
       "<table>\n",
       "<thead><tr><th scope=col>ctage</th><th scope=col>n</th><th scope=col>freq</th></tr></thead>\n",
       "<tbody>\n",
       "\t<tr><td>18          </td><td>   4        </td><td>0.0001173606</td></tr>\n",
       "\t<tr><td>19          </td><td>  21        </td><td>0.0006161429</td></tr>\n",
       "\t<tr><td>20          </td><td>  30        </td><td>0.0008802042</td></tr>\n",
       "\t<tr><td>21          </td><td>  62        </td><td>0.0018190887</td></tr>\n",
       "\t<tr><td>22          </td><td> 104        </td><td>0.0030513746</td></tr>\n",
       "\t<tr><td>23          </td><td> 168        </td><td>0.0049291436</td></tr>\n",
       "\t<tr><td>24          </td><td> 246        </td><td>0.0072176745</td></tr>\n",
       "\t<tr><td>25          </td><td> 418        </td><td>0.0122641786</td></tr>\n",
       "\t<tr><td>26          </td><td> 649        </td><td>0.0190417510</td></tr>\n",
       "\t<tr><td>27          </td><td> 711        </td><td>0.0208608397</td></tr>\n",
       "\t<tr><td>28          </td><td> 807        </td><td>0.0236774932</td></tr>\n",
       "\t<tr><td>29          </td><td> 896        </td><td>0.0262887657</td></tr>\n",
       "\t<tr><td>30          </td><td>1287        </td><td>0.0377607605</td></tr>\n",
       "\t<tr><td>31          </td><td>1402        </td><td>0.0411348766</td></tr>\n",
       "\t<tr><td>32          </td><td>1495        </td><td>0.0438635097</td></tr>\n",
       "</tbody>\n",
       "</table>\n"
      ],
      "text/latex": [
       "\\begin{tabular}{r|lll}\n",
       " ctage & n & freq\\\\\n",
       "\\hline\n",
       "\t 18           &    4         & 0.0001173606\\\\\n",
       "\t 19           &   21         & 0.0006161429\\\\\n",
       "\t 20           &   30         & 0.0008802042\\\\\n",
       "\t 21           &   62         & 0.0018190887\\\\\n",
       "\t 22           &  104         & 0.0030513746\\\\\n",
       "\t 23           &  168         & 0.0049291436\\\\\n",
       "\t 24           &  246         & 0.0072176745\\\\\n",
       "\t 25           &  418         & 0.0122641786\\\\\n",
       "\t 26           &  649         & 0.0190417510\\\\\n",
       "\t 27           &  711         & 0.0208608397\\\\\n",
       "\t 28           &  807         & 0.0236774932\\\\\n",
       "\t 29           &  896         & 0.0262887657\\\\\n",
       "\t 30           & 1287         & 0.0377607605\\\\\n",
       "\t 31           & 1402         & 0.0411348766\\\\\n",
       "\t 32           & 1495         & 0.0438635097\\\\\n",
       "\\end{tabular}\n"
      ],
      "text/markdown": [
       "\n",
       "ctage | n | freq | \n",
       "|---|---|---|---|---|---|---|---|---|---|---|---|---|---|---|\n",
       "| 18           |    4         | 0.0001173606 | \n",
       "| 19           |   21         | 0.0006161429 | \n",
       "| 20           |   30         | 0.0008802042 | \n",
       "| 21           |   62         | 0.0018190887 | \n",
       "| 22           |  104         | 0.0030513746 | \n",
       "| 23           |  168         | 0.0049291436 | \n",
       "| 24           |  246         | 0.0072176745 | \n",
       "| 25           |  418         | 0.0122641786 | \n",
       "| 26           |  649         | 0.0190417510 | \n",
       "| 27           |  711         | 0.0208608397 | \n",
       "| 28           |  807         | 0.0236774932 | \n",
       "| 29           |  896         | 0.0262887657 | \n",
       "| 30           | 1287         | 0.0377607605 | \n",
       "| 31           | 1402         | 0.0411348766 | \n",
       "| 32           | 1495         | 0.0438635097 | \n",
       "\n",
       "\n"
      ],
      "text/plain": [
       "   ctage n    freq        \n",
       "1  18       4 0.0001173606\n",
       "2  19      21 0.0006161429\n",
       "3  20      30 0.0008802042\n",
       "4  21      62 0.0018190887\n",
       "5  22     104 0.0030513746\n",
       "6  23     168 0.0049291436\n",
       "7  24     246 0.0072176745\n",
       "8  25     418 0.0122641786\n",
       "9  26     649 0.0190417510\n",
       "10 27     711 0.0208608397\n",
       "11 28     807 0.0236774932\n",
       "12 29     896 0.0262887657\n",
       "13 30    1287 0.0377607605\n",
       "14 31    1402 0.0411348766\n",
       "15 32    1495 0.0438635097"
      ]
     },
     "metadata": {},
     "output_type": "display_data"
    },
    {
     "data": {},
     "metadata": {},
     "output_type": "display_data"
    },
    {
     "data": {
      "image/png": "[encoded data removed]",
      "text/plain": [
       "plot without title"
      ]
     },
     "metadata": {},
     "output_type": "display_data"
    }
   ],
   "source": [
    "# distribution of customer age\n",
    "agefreq <- bank %>%\n",
    "  group_by(ctage = age) %>%\n",
    "  summarise(\n",
    "    n = n(),\n",
    "    freq = n / nrow(bank)\n",
    "  ) %>%\n",
    "  ungroup() %>%\n",
    "  arrange(ctage) \n",
    "\n",
    "head(agefreq %>% filter(abs(ctage)<=35), 15)\n",
    "\n",
    "agefreq %>%\n",
    "  filter(abs(ctage)<=35) %>%\n",
    "  ggplot(mapping = aes(x = ctage, y = freq)) + geom_bar(stat = \"identity\") + ggtitle(\"Customer age distribution\")\n"
   ]
  },
  {
   "cell_type": "code",
   "execution_count": 15,
   "metadata": {},
   "outputs": [
    {
     "data": {
      "text/html": [
       "<table>\n",
       "<thead><tr><th scope=col>age</th><th scope=col>job</th><th scope=col>marital</th><th scope=col>education</th><th scope=col>default</th><th scope=col>balance</th><th scope=col>housing</th><th scope=col>loan</th><th scope=col>contact</th><th scope=col>day</th><th scope=col>...</th><th scope=col>campaign</th><th scope=col>pdays</th><th scope=col>previous</th><th scope=col>poutcome</th><th scope=col>y</th><th scope=col>bank_id</th><th scope=col>tertiary</th><th scope=col>primary</th><th scope=col>secondary</th><th scope=col>unknown</th></tr></thead>\n",
       "<tbody>\n",
       "\t<tr><td>61         </td><td>Blue-collar</td><td>divorced   </td><td>primary    </td><td>no         </td><td>1428       </td><td>yes        </td><td>no         </td><td>unknown    </td><td> 5         </td><td>...        </td><td>2          </td><td>-1         </td><td>0          </td><td>unknown    </td><td>no         </td><td> 199       </td><td>FALSE      </td><td> TRUE      </td><td>FALSE      </td><td>FALSE      </td></tr>\n",
       "\t<tr><td>61         </td><td>Retired    </td><td>married    </td><td>secondary  </td><td>no         </td><td> 195       </td><td>yes        </td><td>yes        </td><td>unknown    </td><td> 6         </td><td>...        </td><td>1          </td><td>-1         </td><td>0          </td><td>unknown    </td><td>no         </td><td> 558       </td><td>FALSE      </td><td>FALSE      </td><td> TRUE      </td><td>FALSE      </td></tr>\n",
       "\t<tr><td>61         </td><td>Blue-collar</td><td>married    </td><td>primary    </td><td>no         </td><td> 734       </td><td>yes        </td><td>no         </td><td>unknown    </td><td> 8         </td><td>...        </td><td>1          </td><td>-1         </td><td>0          </td><td>unknown    </td><td>no         </td><td>1182       </td><td>FALSE      </td><td> TRUE      </td><td>FALSE      </td><td>FALSE      </td></tr>\n",
       "\t<tr><td>61         </td><td>Retired    </td><td>married    </td><td>primary    </td><td>no         </td><td>1060       </td><td>yes        </td><td>no         </td><td>unknown    </td><td>13         </td><td>...        </td><td>1          </td><td>-1         </td><td>0          </td><td>unknown    </td><td>no         </td><td>2326       </td><td>FALSE      </td><td> TRUE      </td><td>FALSE      </td><td>FALSE      </td></tr>\n",
       "\t<tr><td>61         </td><td>Retired    </td><td>married    </td><td>secondary  </td><td>no         </td><td>4248       </td><td>yes        </td><td>no         </td><td>unknown    </td><td>14         </td><td>...        </td><td>1          </td><td>-1         </td><td>0          </td><td>unknown    </td><td>no         </td><td>2852       </td><td>FALSE      </td><td>FALSE      </td><td> TRUE      </td><td>FALSE      </td></tr>\n",
       "\t<tr><td>61         </td><td>Retired    </td><td>married    </td><td>secondary  </td><td>no         </td><td> 280       </td><td>yes        </td><td>no         </td><td>unknown    </td><td>15         </td><td>...        </td><td>3          </td><td>-1         </td><td>0          </td><td>unknown    </td><td>no         </td><td>3447       </td><td>FALSE      </td><td>FALSE      </td><td> TRUE      </td><td>FALSE      </td></tr>\n",
       "</tbody>\n",
       "</table>\n"
      ],
      "text/latex": [
       "\\begin{tabular}{r|llllllllllllllllllllll}\n",
       " age & job & marital & education & default & balance & housing & loan & contact & day & ... & campaign & pdays & previous & poutcome & y & bank\\_id & tertiary & primary & secondary & unknown\\\\\n",
       "\\hline\n",
       "\t 61          & Blue-collar & divorced    & primary     & no          & 1428        & yes         & no          & unknown     &  5          & ...         & 2           & -1          & 0           & unknown     & no          &  199        & FALSE       &  TRUE       & FALSE       & FALSE      \\\\\n",
       "\t 61          & Retired     & married     & secondary   & no          &  195        & yes         & yes         & unknown     &  6          & ...         & 1           & -1          & 0           & unknown     & no          &  558        & FALSE       & FALSE       &  TRUE       & FALSE      \\\\\n",
       "\t 61          & Blue-collar & married     & primary     & no          &  734        & yes         & no          & unknown     &  8          & ...         & 1           & -1          & 0           & unknown     & no          & 1182        & FALSE       &  TRUE       & FALSE       & FALSE      \\\\\n",
       "\t 61          & Retired     & married     & primary     & no          & 1060        & yes         & no          & unknown     & 13          & ...         & 1           & -1          & 0           & unknown     & no          & 2326        & FALSE       &  TRUE       & FALSE       & FALSE      \\\\\n",
       "\t 61          & Retired     & married     & secondary   & no          & 4248        & yes         & no          & unknown     & 14          & ...         & 1           & -1          & 0           & unknown     & no          & 2852        & FALSE       & FALSE       &  TRUE       & FALSE      \\\\\n",
       "\t 61          & Retired     & married     & secondary   & no          &  280        & yes         & no          & unknown     & 15          & ...         & 3           & -1          & 0           & unknown     & no          & 3447        & FALSE       & FALSE       &  TRUE       & FALSE      \\\\\n",
       "\\end{tabular}\n"
      ],
      "text/markdown": [
       "\n",
       "age | job | marital | education | default | balance | housing | loan | contact | day | ... | campaign | pdays | previous | poutcome | y | bank_id | tertiary | primary | secondary | unknown | \n",
       "|---|---|---|---|---|---|\n",
       "| 61          | Blue-collar | divorced    | primary     | no          | 1428        | yes         | no          | unknown     |  5          | ...         | 2           | -1          | 0           | unknown     | no          |  199        | FALSE       |  TRUE       | FALSE       | FALSE       | \n",
       "| 61          | Retired     | married     | secondary   | no          |  195        | yes         | yes         | unknown     |  6          | ...         | 1           | -1          | 0           | unknown     | no          |  558        | FALSE       | FALSE       |  TRUE       | FALSE       | \n",
       "| 61          | Blue-collar | married     | primary     | no          |  734        | yes         | no          | unknown     |  8          | ...         | 1           | -1          | 0           | unknown     | no          | 1182        | FALSE       |  TRUE       | FALSE       | FALSE       | \n",
       "| 61          | Retired     | married     | primary     | no          | 1060        | yes         | no          | unknown     | 13          | ...         | 1           | -1          | 0           | unknown     | no          | 2326        | FALSE       |  TRUE       | FALSE       | FALSE       | \n",
       "| 61          | Retired     | married     | secondary   | no          | 4248        | yes         | no          | unknown     | 14          | ...         | 1           | -1          | 0           | unknown     | no          | 2852        | FALSE       | FALSE       |  TRUE       | FALSE       | \n",
       "| 61          | Retired     | married     | secondary   | no          |  280        | yes         | no          | unknown     | 15          | ...         | 3           | -1          | 0           | unknown     | no          | 3447        | FALSE       | FALSE       |  TRUE       | FALSE       | \n",
       "\n",
       "\n"
      ],
      "text/plain": [
       "  age job         marital  education default balance housing loan contact day\n",
       "1 61  Blue-collar divorced primary   no      1428    yes     no   unknown  5 \n",
       "2 61  Retired     married  secondary no       195    yes     yes  unknown  6 \n",
       "3 61  Blue-collar married  primary   no       734    yes     no   unknown  8 \n",
       "4 61  Retired     married  primary   no      1060    yes     no   unknown 13 \n",
       "5 61  Retired     married  secondary no      4248    yes     no   unknown 14 \n",
       "6 61  Retired     married  secondary no       280    yes     no   unknown 15 \n",
       "  ... campaign pdays previous poutcome y  bank_id tertiary primary secondary\n",
       "1 ... 2        -1    0        unknown  no  199    FALSE     TRUE   FALSE    \n",
       "2 ... 1        -1    0        unknown  no  558    FALSE    FALSE    TRUE    \n",
       "3 ... 1        -1    0        unknown  no 1182    FALSE     TRUE   FALSE    \n",
       "4 ... 1        -1    0        unknown  no 2326    FALSE     TRUE   FALSE    \n",
       "5 ... 1        -1    0        unknown  no 2852    FALSE    FALSE    TRUE    \n",
       "6 ... 3        -1    0        unknown  no 3447    FALSE    FALSE    TRUE    \n",
       "  unknown\n",
       "1 FALSE  \n",
       "2 FALSE  \n",
       "3 FALSE  \n",
       "4 FALSE  \n",
       "5 FALSE  \n",
       "6 FALSE  "
      ]
     },
     "metadata": {},
     "output_type": "display_data"
    },
    {
     "data": {
      "text/html": [
       "'862 outliers, or 2.52912008919403 % of total.'"
      ],
      "text/latex": [
       "'862 outliers, or 2.52912008919403 \\% of total.'"
      ],
      "text/markdown": [
       "'862 outliers, or 2.52912008919403 % of total.'"
      ],
      "text/plain": [
       "[1] \"862 outliers, or 2.52912008919403 % of total.\""
      ]
     },
     "metadata": {},
     "output_type": "display_data"
    }
   ],
   "source": [
    "# how many outliers do we have?\n",
    "out <- bank %>% dplyr::filter(abs(age) > 60)\n",
    "head(out)\n",
    "paste(nrow(out), \"outliers, or\", (nrow(out)/nrow(bank)*100), \"% of total.\")"
   ]
  },
  {
   "cell_type": "code",
   "execution_count": 16,
   "metadata": {},
   "outputs": [],
   "source": [
    "# get rid of all the outliers by selecting the age to [20, 60]\n",
    "bkmk_perf$age[bkmk_perf$age < 20] <- 20\n",
    "bkmk_perf$age[bkmk_perf$age > 60] <- 60"
   ]
  },
  {
   "cell_type": "code",
   "execution_count": 17,
   "metadata": {},
   "outputs": [
    {
     "data": {
      "text/html": [
       "<table>\n",
       "<thead><tr><th scope=col>bank_id</th><th scope=col>age</th><th scope=col>job</th><th scope=col>bal</th><th scope=col>last10customers_bal_per</th><th scope=col>last30customers_bal_per</th><th scope=col>last50customers_bal_per</th><th scope=col>dtion</th><th scope=col>last10customers_dtion_per</th><th scope=col>last30customers_dtion_per</th><th scope=col>last50customers_dtion_per</th><th scope=col>edumar</th><th scope=col>last10customers_edumar_per</th><th scope=col>last30customers_edumar_per</th><th scope=col>last50customers_edumar_per</th></tr></thead>\n",
       "<tbody>\n",
       "</tbody>\n",
       "</table>\n"
      ],
      "text/latex": [
       "\\begin{tabular}{r|lllllllllllllll}\n",
       " bank\\_id & age & job & bal & last10customers\\_bal\\_per & last30customers\\_bal\\_per & last50customers\\_bal\\_per & dtion & last10customers\\_dtion\\_per & last30customers\\_dtion\\_per & last50customers\\_dtion\\_per & edumar & last10customers\\_edumar\\_per & last30customers\\_edumar\\_per & last50customers\\_edumar\\_per\\\\\n",
       "\\hline\n",
       "\\end{tabular}\n"
      ],
      "text/markdown": [
       "\n",
       "bank_id | age | job | bal | last10customers_bal_per | last30customers_bal_per | last50customers_bal_per | dtion | last10customers_dtion_per | last30customers_dtion_per | last50customers_dtion_per | edumar | last10customers_edumar_per | last30customers_edumar_per | last50customers_edumar_per | \n",
       "||\n",
       "\n",
       "\n"
      ],
      "text/plain": [
       "     bank_id age job bal last10customers_bal_per last30customers_bal_per\n",
       "     last50customers_bal_per dtion last10customers_dtion_per\n",
       "     last30customers_dtion_per last50customers_dtion_per edumar\n",
       "     last10customers_edumar_per last30customers_edumar_per\n",
       "     last50customers_edumar_per"
      ]
     },
     "metadata": {},
     "output_type": "display_data"
    },
    {
     "data": {
      "text/plain": [
       "    bank_id           age            job               bal         \n",
       " Min.   :    1   Min.   :20.00   Length:34083       Mode :logical  \n",
       " 1st Qu.: 8964   1st Qu.:33.00   Class :character   FALSE:21466    \n",
       " Median :17926   Median :39.00   Mode  :character   TRUE :12617    \n",
       " Mean   :17874   Mean   :40.84                                     \n",
       " 3rd Qu.:26746   3rd Qu.:49.00                                     \n",
       " Max.   :35732   Max.   :60.00                                     \n",
       " last10customers_bal_per last30customers_bal_per last50customers_bal_per\n",
       " Min.   :0.0000          Min.   :0.0000          Min.   :0.0000         \n",
       " 1st Qu.:0.2000          1st Qu.:0.2667          1st Qu.:0.3000         \n",
       " Median :0.4000          Median :0.3667          Median :0.3600         \n",
       " Mean   :0.3691          Mean   :0.3673          Mean   :0.3656         \n",
       " 3rd Qu.:0.5000          3rd Qu.:0.4333          3rd Qu.:0.4400         \n",
       " Max.   :1.0000          Max.   :0.8000          Max.   :0.7600         \n",
       "   dtion         last10customers_dtion_per last30customers_dtion_per\n",
       " Mode :logical   Min.   :0.0000            Min.   :0.0000           \n",
       " FALSE:20255     1st Qu.:0.3000            1st Qu.:0.3333           \n",
       " TRUE :13828     Median :0.4000            Median :0.4000           \n",
       "                 Mean   :0.4053            Mean   :0.4041           \n",
       "                 3rd Qu.:0.5000            3rd Qu.:0.4667           \n",
       "                 Max.   :1.0000            Max.   :0.8333           \n",
       " last50customers_dtion_per   edumar        last10customers_edumar_per\n",
       " Min.   :0.0000            Mode :logical   Min.   :0.0000            \n",
       " 1st Qu.:0.3400            FALSE:28574     1st Qu.:0.0000            \n",
       " Median :0.4000            TRUE :5509      Median :0.1000            \n",
       " Mean   :0.4028                            Mean   :0.1612            \n",
       " 3rd Qu.:0.4600                            3rd Qu.:0.3000            \n",
       " Max.   :0.7400                            Max.   :1.0000            \n",
       " last30customers_edumar_per last50customers_edumar_per\n",
       " Min.   :0.00000            Min.   :0.0000            \n",
       " 1st Qu.:0.00000            1st Qu.:0.0200            \n",
       " Median :0.06667            Median :0.0800            \n",
       " Mean   :0.16056            Mean   :0.1598            \n",
       " 3rd Qu.:0.26667            3rd Qu.:0.2400            \n",
       " Max.   :0.83333            Max.   :0.7600            "
      ]
     },
     "metadata": {},
     "output_type": "display_data"
    }
   ],
   "source": [
    "# Let's calculate some lag features           \n",
    "# we'll take three windows: last 10 customers, last 30 customers, last 50 customers.\n",
    "# for each window we'll calculate some values\n",
    "\n",
    "lagfn <- function(data, width) {\n",
    "  return (rollapplyr(data, width = width + 1, FUN = sum, fill = NA, partial=TRUE) - data)\n",
    "}\n",
    "\n",
    "lagfn_per <- function(data, width) {\n",
    "  return (lagfn(data, width) / width)\n",
    "}\n",
    "\n",
    "bank_features <- bkmk_perf %>%\n",
    "  dplyr::arrange(job, age) %>%\n",
    "  dplyr::group_by(job) %>%\n",
    "  dplyr::mutate(\n",
    "    last10customers_bal_per = lagfn_per(bal, 10),\n",
    "    last30customers_bal_per = lagfn_per(bal, 30),\n",
    "    last50customers_bal_per = lagfn_per(bal, 50),\n",
    "    \n",
    "    last10customers_dtion_per = lagfn_per(dtion, 10),\n",
    "    last30customers_dtion_per = lagfn_per(dtion, 30),\n",
    "    last50customers_dtion_per = lagfn_per(dtion, 50),\n",
    "    \n",
    "    last10customers_edumar_per = lagfn_per(edumar, 10),\n",
    "    last30customers_edumar_per = lagfn_per(edumar, 30),\n",
    "    last50customers_edumar_per = lagfn_per(edumar, 50),\n",
    "    \n",
    "    \n",
    "  ) %>%\n",
    "  dplyr::select (\n",
    "    bank_id, age, job,\n",
    "    bal, last10customers_bal_per, last30customers_bal_per, last50customers_bal_per,\n",
    "    dtion, last10customers_dtion_per, last30customers_dtion_per, last50customers_dtion_per,\n",
    "    edumar,last10customers_edumar_per, last30customers_edumar_per, last50customers_edumar_per\n",
    "    \n",
    "  ) %>%\n",
    "  dplyr::ungroup()\n",
    "\n",
    "head((bank_features %>% dplyr::filter(job == \"technician\" & age >= '20')), n = 35)\n",
    "summary(bank_features)"
   ]
  },
  {
   "cell_type": "code",
   "execution_count": 18,
   "metadata": {},
   "outputs": [
    {
     "data": {
      "text/html": [
       "<table>\n",
       "<thead><tr><th scope=col>age</th><th scope=col>job</th><th scope=col>bal</th><th scope=col>last10customers_bal_per</th><th scope=col>last30customers_bal_per</th><th scope=col>last50customers_bal_per</th><th scope=col>dtion</th><th scope=col>last10customers_dtion_per</th><th scope=col>last30customers_dtion_per</th><th scope=col>last50customers_dtion_per</th><th scope=col>edumar</th><th scope=col>last10customers_edumar_per</th><th scope=col>last30customers_edumar_per</th><th scope=col>last50customers_edumar_per</th></tr></thead>\n",
       "<tbody>\n",
       "\t<tr><td>20        </td><td>admin.    </td><td>FALSE     </td><td>0         </td><td>0         </td><td>0         </td><td> TRUE     </td><td>0.0       </td><td>0.00000000</td><td>0.00      </td><td>FALSE     </td><td>0         </td><td>0         </td><td>0         </td></tr>\n",
       "\t<tr><td>20        </td><td>admin.    </td><td>FALSE     </td><td>0         </td><td>0         </td><td>0         </td><td> TRUE     </td><td>0.1       </td><td>0.03333333</td><td>0.02      </td><td>FALSE     </td><td>0         </td><td>0         </td><td>0         </td></tr>\n",
       "\t<tr><td>21        </td><td>admin.    </td><td>FALSE     </td><td>0         </td><td>0         </td><td>0         </td><td>FALSE     </td><td>0.2       </td><td>0.06666667</td><td>0.04      </td><td>FALSE     </td><td>0         </td><td>0         </td><td>0         </td></tr>\n",
       "\t<tr><td>21        </td><td>admin.    </td><td>FALSE     </td><td>0         </td><td>0         </td><td>0         </td><td> TRUE     </td><td>0.2       </td><td>0.06666667</td><td>0.04      </td><td>FALSE     </td><td>0         </td><td>0         </td><td>0         </td></tr>\n",
       "\t<tr><td>21        </td><td>admin.    </td><td>FALSE     </td><td>0         </td><td>0         </td><td>0         </td><td> TRUE     </td><td>0.3       </td><td>0.10000000</td><td>0.06      </td><td>FALSE     </td><td>0         </td><td>0         </td><td>0         </td></tr>\n",
       "\t<tr><td>21        </td><td>admin.    </td><td>FALSE     </td><td>0         </td><td>0         </td><td>0         </td><td>FALSE     </td><td>0.4       </td><td>0.13333333</td><td>0.08      </td><td>FALSE     </td><td>0         </td><td>0         </td><td>0         </td></tr>\n",
       "</tbody>\n",
       "</table>\n"
      ],
      "text/latex": [
       "\\begin{tabular}{r|llllllllllllll}\n",
       " age & job & bal & last10customers\\_bal\\_per & last30customers\\_bal\\_per & last50customers\\_bal\\_per & dtion & last10customers\\_dtion\\_per & last30customers\\_dtion\\_per & last50customers\\_dtion\\_per & edumar & last10customers\\_edumar\\_per & last30customers\\_edumar\\_per & last50customers\\_edumar\\_per\\\\\n",
       "\\hline\n",
       "\t 20         & admin.     & FALSE      & 0          & 0          & 0          &  TRUE      & 0.0        & 0.00000000 & 0.00       & FALSE      & 0          & 0          & 0         \\\\\n",
       "\t 20         & admin.     & FALSE      & 0          & 0          & 0          &  TRUE      & 0.1        & 0.03333333 & 0.02       & FALSE      & 0          & 0          & 0         \\\\\n",
       "\t 21         & admin.     & FALSE      & 0          & 0          & 0          & FALSE      & 0.2        & 0.06666667 & 0.04       & FALSE      & 0          & 0          & 0         \\\\\n",
       "\t 21         & admin.     & FALSE      & 0          & 0          & 0          &  TRUE      & 0.2        & 0.06666667 & 0.04       & FALSE      & 0          & 0          & 0         \\\\\n",
       "\t 21         & admin.     & FALSE      & 0          & 0          & 0          &  TRUE      & 0.3        & 0.10000000 & 0.06       & FALSE      & 0          & 0          & 0         \\\\\n",
       "\t 21         & admin.     & FALSE      & 0          & 0          & 0          & FALSE      & 0.4        & 0.13333333 & 0.08       & FALSE      & 0          & 0          & 0         \\\\\n",
       "\\end{tabular}\n"
      ],
      "text/markdown": [
       "\n",
       "age | job | bal | last10customers_bal_per | last30customers_bal_per | last50customers_bal_per | dtion | last10customers_dtion_per | last30customers_dtion_per | last50customers_dtion_per | edumar | last10customers_edumar_per | last30customers_edumar_per | last50customers_edumar_per | \n",
       "|---|---|---|---|---|---|\n",
       "| 20         | admin.     | FALSE      | 0          | 0          | 0          |  TRUE      | 0.0        | 0.00000000 | 0.00       | FALSE      | 0          | 0          | 0          | \n",
       "| 20         | admin.     | FALSE      | 0          | 0          | 0          |  TRUE      | 0.1        | 0.03333333 | 0.02       | FALSE      | 0          | 0          | 0          | \n",
       "| 21         | admin.     | FALSE      | 0          | 0          | 0          | FALSE      | 0.2        | 0.06666667 | 0.04       | FALSE      | 0          | 0          | 0          | \n",
       "| 21         | admin.     | FALSE      | 0          | 0          | 0          |  TRUE      | 0.2        | 0.06666667 | 0.04       | FALSE      | 0          | 0          | 0          | \n",
       "| 21         | admin.     | FALSE      | 0          | 0          | 0          |  TRUE      | 0.3        | 0.10000000 | 0.06       | FALSE      | 0          | 0          | 0          | \n",
       "| 21         | admin.     | FALSE      | 0          | 0          | 0          | FALSE      | 0.4        | 0.13333333 | 0.08       | FALSE      | 0          | 0          | 0          | \n",
       "\n",
       "\n"
      ],
      "text/plain": [
       "  age job    bal   last10customers_bal_per last30customers_bal_per\n",
       "1 20  admin. FALSE 0                       0                      \n",
       "2 20  admin. FALSE 0                       0                      \n",
       "3 21  admin. FALSE 0                       0                      \n",
       "4 21  admin. FALSE 0                       0                      \n",
       "5 21  admin. FALSE 0                       0                      \n",
       "6 21  admin. FALSE 0                       0                      \n",
       "  last50customers_bal_per dtion last10customers_dtion_per\n",
       "1 0                        TRUE 0.0                      \n",
       "2 0                        TRUE 0.1                      \n",
       "3 0                       FALSE 0.2                      \n",
       "4 0                        TRUE 0.2                      \n",
       "5 0                        TRUE 0.3                      \n",
       "6 0                       FALSE 0.4                      \n",
       "  last30customers_dtion_per last50customers_dtion_per edumar\n",
       "1 0.00000000                0.00                      FALSE \n",
       "2 0.03333333                0.02                      FALSE \n",
       "3 0.06666667                0.04                      FALSE \n",
       "4 0.06666667                0.04                      FALSE \n",
       "5 0.10000000                0.06                      FALSE \n",
       "6 0.13333333                0.08                      FALSE \n",
       "  last10customers_edumar_per last30customers_edumar_per\n",
       "1 0                          0                         \n",
       "2 0                          0                         \n",
       "3 0                          0                         \n",
       "4 0                          0                         \n",
       "5 0                          0                         \n",
       "6 0                          0                         \n",
       "  last50customers_edumar_per\n",
       "1 0                         \n",
       "2 0                         \n",
       "3 0                         \n",
       "4 0                         \n",
       "5 0                         \n",
       "6 0                         "
      ]
     },
     "metadata": {},
     "output_type": "display_data"
    },
    {
     "data": {
      "text/html": [
       "<ol class=list-inline>\n",
       "\t<li>'age'</li>\n",
       "\t<li>'job'</li>\n",
       "\t<li>'bal'</li>\n",
       "\t<li>'last10customers_bal_per'</li>\n",
       "\t<li>'last30customers_bal_per'</li>\n",
       "\t<li>'last50customers_bal_per'</li>\n",
       "\t<li>'dtion'</li>\n",
       "\t<li>'last10customers_dtion_per'</li>\n",
       "\t<li>'last30customers_dtion_per'</li>\n",
       "\t<li>'last50customers_dtion_per'</li>\n",
       "\t<li>'edumar'</li>\n",
       "\t<li>'last10customers_edumar_per'</li>\n",
       "\t<li>'last30customers_edumar_per'</li>\n",
       "\t<li>'last50customers_edumar_per'</li>\n",
       "</ol>\n"
      ],
      "text/latex": [
       "\\begin{enumerate*}\n",
       "\\item 'age'\n",
       "\\item 'job'\n",
       "\\item 'bal'\n",
       "\\item 'last10customers\\_bal\\_per'\n",
       "\\item 'last30customers\\_bal\\_per'\n",
       "\\item 'last50customers\\_bal\\_per'\n",
       "\\item 'dtion'\n",
       "\\item 'last10customers\\_dtion\\_per'\n",
       "\\item 'last30customers\\_dtion\\_per'\n",
       "\\item 'last50customers\\_dtion\\_per'\n",
       "\\item 'edumar'\n",
       "\\item 'last10customers\\_edumar\\_per'\n",
       "\\item 'last30customers\\_edumar\\_per'\n",
       "\\item 'last50customers\\_edumar\\_per'\n",
       "\\end{enumerate*}\n"
      ],
      "text/markdown": [
       "1. 'age'\n",
       "2. 'job'\n",
       "3. 'bal'\n",
       "4. 'last10customers_bal_per'\n",
       "5. 'last30customers_bal_per'\n",
       "6. 'last50customers_bal_per'\n",
       "7. 'dtion'\n",
       "8. 'last10customers_dtion_per'\n",
       "9. 'last30customers_dtion_per'\n",
       "10. 'last50customers_dtion_per'\n",
       "11. 'edumar'\n",
       "12. 'last10customers_edumar_per'\n",
       "13. 'last30customers_edumar_per'\n",
       "14. 'last50customers_edumar_per'\n",
       "\n",
       "\n"
      ],
      "text/plain": [
       " [1] \"age\"                        \"job\"                       \n",
       " [3] \"bal\"                        \"last10customers_bal_per\"   \n",
       " [5] \"last30customers_bal_per\"    \"last50customers_bal_per\"   \n",
       " [7] \"dtion\"                      \"last10customers_dtion_per\" \n",
       " [9] \"last30customers_dtion_per\"  \"last50customers_dtion_per\" \n",
       "[11] \"edumar\"                     \"last10customers_edumar_per\"\n",
       "[13] \"last30customers_edumar_per\" \"last50customers_edumar_per\""
      ]
     },
     "metadata": {},
     "output_type": "display_data"
    }
   ],
   "source": [
    "# drop all non-interesting columns, and those which should not be supplied for new data \n",
    "bank_features <- bank_features %>%\n",
    "  dplyr::select(-c(bank_id))\n",
    "\n",
    "head(bank_features)\n",
    "names(bank_features)"
   ]
  },
  {
   "cell_type": "code",
   "execution_count": null,
   "metadata": {},
   "outputs": [],
   "source": []
  }
 ],
 "metadata": {
  "kernelspec": {
   "display_name": "R",
   "language": "R",
   "name": "ir"
  },
  "language_info": {
   "codemirror_mode": "r",
   "file_extension": ".r",
   "mimetype": "text/x-r-source",
   "name": "R",
   "pygments_lexer": "r",
   "version": "3.4.3"
  }
 },
 "nbformat": 4,
 "nbformat_minor": 2
}
